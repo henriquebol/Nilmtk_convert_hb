{
 "cells": [
  {
   "cell_type": "code",
   "execution_count": 1,
   "id": "16bf8588",
   "metadata": {},
   "outputs": [],
   "source": [
    "import nilmtk\n",
    "%matplotlib inline\n",
    "\n",
    "from matplotlib import rcParams\n",
    "import matplotlib.pyplot as plt\n",
    "import pandas as pd\n",
    "import nilmtk\n",
    "from nilmtk import DataSet, MeterGroup\n",
    "\n",
    "plt.style.use('ggplot')\n",
    "rcParams['figure.figsize'] = (13, 10)"
   ]
  },
  {
   "cell_type": "code",
   "execution_count": null,
   "id": "f26e3d5d",
   "metadata": {},
   "outputs": [],
   "source": [
    "from nilmtk import DataSet\n",
    "from nilmtk.utils import print_dict\n",
    "\n",
    "redd = DataSet('./data/redd.h5')\n",
    "\n",
    "print_dict(redd.metadata)"
   ]
  }
 ],
 "metadata": {
  "kernelspec": {
   "display_name": "Python 3",
   "language": "python",
   "name": "python3"
  },
  "language_info": {
   "codemirror_mode": {
    "name": "ipython",
    "version": 3
   },
   "file_extension": ".py",
   "mimetype": "text/x-python",
   "name": "python",
   "nbconvert_exporter": "python",
   "pygments_lexer": "ipython3",
   "version": "3.6.13"
  }
 },
 "nbformat": 4,
 "nbformat_minor": 5
}
