{
 "cells": [
  {
   "cell_type": "markdown",
   "metadata": {},
   "source": [
    "https://github.com/nilmtk/nilmtk-contrib/issues/19\n",
    "https://github.com/nilmtk/nilmtk-contrib/issues/35\n",
    "\n",
    "mamba create -n nilm -c conda-forge -c nilmtk nilmtk-contrib tensorflow=2.3\n",
    "\n",
    "https://github.com/conda-forge/miniforge#mambaforge\n",
    "\n",
    "mamba deactivate\n",
    "mamba env remove --name nilm\n",
    "\n",
    "mamba create -n nilm_0.4.3 -c conda-forge -c nilmtk nilmtk=0.4.3 nilmtk-contrib tensorflow=2.2 keras=2.3 matplotlib-base=3.1 python=3.7 -y\n",
    "\n",
    "conda activate nilm\n",
    "\n",
    "jupyter notebook\n",
    "jupyter notebook --no-browser --port=80"
   ]
  },
  {
   "cell_type": "code",
   "execution_count": 1,
   "metadata": {},
   "outputs": [],
   "source": [
    "from nilmtk.api import API\n",
    "import warnings\n",
    "warnings.filterwarnings(\"ignore\")"
   ]
  },
  {
   "cell_type": "code",
   "execution_count": 2,
   "metadata": {},
   "outputs": [
    {
     "data": {
      "text/html": [
       "<ul><li><strong>description_of_subjects</strong>: 4 MSc students and 1 PhD student.</li><li><strong>meter_devices</strong>: <ul><li><strong>EcoManagerTxPlug</strong>: <ul><li><strong>max_sample_period</strong>: 120</li><li><strong>model_url</strong>: <a href=\"https://shop.edfenergy.com/Item.aspx?id=540\">https://shop.edfenergy.com/Item.aspx?id=540</a></li><li><strong>wireless_configuration</strong>: <ul><li><strong>base</strong>: creators: [Jack Kelly] model: rfm_edf_ecomanager model_url: <a href=\"https://github.com/JackKelly/rfm_edf_ecomanager/\">https://github.com/JackKelly/rfm_edf_ecomanager/</a>\n",
       "</li><li><strong>protocol</strong>: custom</li><li><strong>carrier_frequency</strong>: 434</li></ul></li><li><strong>brand</strong>: EcoManager</li><li><strong>measurements</strong>: <ul><li>{'lower_limit': 0, 'upper_limit': 3300, 'physical_quantity': 'power', 'type': 'active'}</li></ul></li><li><strong>data_logger</strong>: <ul><li><strong>model</strong>: rfm_ecomanager_logger</li><li><strong>creators</strong>: <ul><li>Jack Kelly</li></ul></li><li><strong>model_url</strong>: <a href=\"https://github.com/JackKelly/rfm_ecomanager_logger\">https://github.com/JackKelly/rfm_ecomanager_logger</a></li></ul></li><li><strong>sample_period</strong>: 6</li><li><strong>wireless</strong>: True</li><li><strong>brand_url</strong>: <a href=\"http://www.edfenergy.com/products-services/for-your-home/ecomanager\">http://www.edfenergy.com/products-services/for-your-home/ecomanager</a></li><li><strong>model</strong>: EcoManagerTxPlug</li><li><strong>seller</strong>: EDF Energy</li><li><strong>manufacturer</strong>: Current Cost / Sailwider</li></ul></li><li><strong>CurrentCostTx</strong>: <ul><li><strong>max_sample_period</strong>: 120</li><li><strong>model_url</strong>: <a href=\"http://www.currentcost.com/product-transmitter.html\">http://www.currentcost.com/product-transmitter.html</a></li><li><strong>wireless_configuration</strong>: <ul><li><strong>base</strong>: creators: [Jack Kelly] model: rfm_edf_ecomanager model_url: <a href=\"https://github.com/JackKelly/rfm_edf_ecomanager/\">https://github.com/JackKelly/rfm_edf_ecomanager/</a>\n",
       "</li><li><strong>protocol</strong>: custom</li><li><strong>carrier_frequency</strong>: 434</li></ul></li><li><strong>measurements</strong>: <ul><li>{'lower_limit': 0, 'upper_limit': 25000, 'physical_quantity': 'power', 'type': 'apparent'}</li></ul></li><li><strong>data_logger</strong>: <ul><li><strong>model</strong>: rfm_ecomanager_logger</li><li><strong>creators</strong>: <ul><li>Jack Kelly</li></ul></li><li><strong>model_url</strong>: <a href=\"https://github.com/JackKelly/rfm_ecomanager_logger\">https://github.com/JackKelly/rfm_ecomanager_logger</a></li></ul></li><li><strong>sample_period</strong>: 6</li><li><strong>wireless</strong>: True</li><li><strong>model</strong>: CurrentCost Tx</li><li><strong>manufacturer</strong>: Current Cost</li></ul></li><li><strong>SoundCardPowerMeter</strong>: <ul><li><strong>max_sample_period</strong>: 3</li><li><strong>wireless</strong>: False</li><li><strong>model_url</strong>: <a href=\"https://github.com/JackKelly/snd_card_power_meter\">https://github.com/JackKelly/snd_card_power_meter</a></li><li><strong>model</strong>: Sound Card Power Meter</li><li><strong>measurements</strong>: <ul><li>{'lower_limit': 0, 'upper_limit': 25000, 'physical_quantity': 'power', 'type': 'active'}</li><li>{'lower_limit': 0, 'upper_limit': 25000, 'physical_quantity': 'power', 'type': 'apparent'}</li><li>{'lower_limit': 180, 'upper_limit': 275, 'physical_quantity': 'voltage', 'description': 'RMS voltage'}</li></ul></li><li><strong>manufacturer</strong>: Jack Kelly / Imperial College London</li><li><strong>sample_period</strong>: 1</li></ul></li><li><strong>EcoManagerWholeHouseTx</strong>: <ul><li><strong>max_sample_period</strong>: 120</li><li><strong>model_url</strong>: <a href=\"https://shop.edfenergy.com/Item.aspx?id=547\">https://shop.edfenergy.com/Item.aspx?id=547</a></li><li><strong>wireless_configuration</strong>: <ul><li><strong>base</strong>: creators: [Jack Kelly] model: rfm_edf_ecomanager model_url: <a href=\"https://github.com/JackKelly/rfm_edf_ecomanager/\">https://github.com/JackKelly/rfm_edf_ecomanager/</a>\n",
       "</li><li><strong>protocol</strong>: custom</li><li><strong>carrier_frequency</strong>: 434</li></ul></li><li><strong>brand</strong>: EcoManager</li><li><strong>measurements</strong>: <ul><li>{'lower_limit': 0, 'upper_limit': 25000, 'physical_quantity': 'power', 'type': 'apparent'}</li></ul></li><li><strong>data_logger</strong>: <ul><li><strong>model</strong>: rfm_ecomanager_logger</li><li><strong>creators</strong>: <ul><li>Jack Kelly</li></ul></li><li><strong>model_url</strong>: <a href=\"https://github.com/JackKelly/rfm_ecomanager_logger\">https://github.com/JackKelly/rfm_ecomanager_logger</a></li></ul></li><li><strong>sample_period</strong>: 6</li><li><strong>wireless</strong>: True</li><li><strong>brand_url</strong>: <a href=\"http://www.edfenergy.com/products-services/for-your-home/ecomanager\">http://www.edfenergy.com/products-services/for-your-home/ecomanager</a></li><li><strong>model</strong>: EcoManagerWholeHouseTx</li><li><strong>seller</strong>: EDF Energy</li><li><strong>site_meter</strong>: True</li><li><strong>manufacturer</strong>: Current Cost / Sailwider</li></ul></li></ul></li><li><strong>description</strong>: Appliance-by-appliance and whole-home power demand for 5 UK homes. Appliance power demand was recorded once every 6 seconds. Whole-home power demand was recorded once every 6 seconds for all homes and additionally at 16kHz for homes 1, 2 and 5. Detailed metadata is included.</li><li><strong>rights_list</strong>: <ul><li>{'name': 'Creative Commons Attribution 4.0 International (CC BY 4.0)', 'uri': 'http://creativecommons.org/licenses/by/4.0/'}</li></ul></li><li><strong>long_name</strong>: UK Domestic Appliance-Level Electricity</li><li><strong>geo_location</strong>: <ul><li><strong>latitude</strong>: 51.464462</li><li><strong>country</strong>: GB</li><li><strong>longitude</strong>: -0.076544</li><li><strong>locality</strong>: London</li></ul></li><li><strong>date</strong>: 2017-04-26</li><li><strong>timezone</strong>: Europe/London</li><li><strong>institution</strong>: Imperial College London</li><li><strong>subject</strong>: Disaggregated domestic electricity demand</li><li><strong>publisher</strong>: UK Energy Research Centre Energy Data Centre (UKERC EDC)</li><li><strong>funding</strong>: <ul><li>Jack Kelly's PhD is funded by an EPSRC DTA</li><li>Hardware necessary for this project was funded from Jack Kelly's Intel EU PhD Fellowship</li></ul></li><li><strong>name</strong>: UK-DALE</li><li><strong>number_of_buildings</strong>: 5</li><li><strong>related_documents</strong>: <ul><li>Jack Kelly and William Knottenbelt. The UK-DALE dataset, domestic appliance-level electricity demand and whole-house demand from five UK homes.  To appear in Scientific Data 2:150007.  DOI:10.1038/sdata.2015.7 arXiv:1404.0284 (2015).</li><li>Dataset is available for download from <a href=\"http://www.doc.ic.ac.uk/~dk3810/data/\">http://www.doc.ic.ac.uk/~dk3810/data/</a></li><li>Dataset is also available from the UK Energy Research Council's Energy Data Centre: The 1-second data is available from <a href=\"http://data.ukedc.rl.ac.uk/cgi-bin/dataset_catalogue/view.cgi.py?id=19\">http://data.ukedc.rl.ac.uk/cgi-bin/dataset_catalogue/view.cgi.py?id=19</a> and the 6-second data is available from <a href=\"http://data.ukedc.rl.ac.uk/cgi-bin/dataset_catalogue/view.cgi.py?id=18\">http://data.ukedc.rl.ac.uk/cgi-bin/dataset_catalogue/view.cgi.py?id=18</a> but please note that this archive is updated less frequently than the data on www.doc.ic.ac.uk/~dk3810/data/</li></ul></li><li><strong>contact</strong>: jack.kelly@imperial.ac.uk</li><li><strong>timeframe</strong>: <ul><li><strong>start</strong>: 2012-11-09T22:28:15+00:00</li><li><strong>end</strong>: 2017-04-26T18:35:53+01:00</li></ul></li><li><strong>geospatial_coverage</strong>: Southern England</li><li><strong>creators</strong>: <ul><li>Kelly, Jack</li></ul></li><li><strong>schema</strong>: <a href=\"https://github.com/nilmtk/nilm_metadata/tree/v0.2\">https://github.com/nilmtk/nilm_metadata/tree/v0.2</a></li></ul>"
      ],
      "text/plain": [
       "<IPython.core.display.HTML object>"
      ]
     },
     "metadata": {},
     "output_type": "display_data"
    },
    {
     "data": {
      "text/html": [
       "<ul><li><strong>1</strong>: Building(instance=1, dataset='UK-DALE')</li><li><strong>2</strong>: Building(instance=2, dataset='UK-DALE')</li><li><strong>3</strong>: Building(instance=3, dataset='UK-DALE')</li><li><strong>4</strong>: Building(instance=4, dataset='UK-DALE')</li><li><strong>5</strong>: Building(instance=5, dataset='UK-DALE')</li></ul>"
      ],
      "text/plain": [
       "<IPython.core.display.HTML object>"
      ]
     },
     "metadata": {},
     "output_type": "display_data"
    }
   ],
   "source": [
    "from nilmtk import DataSet\n",
    "from nilmtk.utils import print_dict\n",
    "\n",
    "ukdale = DataSet('./data/ukdale.h5')\n",
    "#iawe = DataSet('/data/iawe.h5')\n",
    "\n",
    "print_dict(ukdale.metadata)\n",
    "print_dict(ukdale.buildings)"
   ]
  },
  {
   "cell_type": "code",
   "execution_count": 1,
   "metadata": {},
   "outputs": [
    {
     "name": "stdout",
     "output_type": "stream",
     "text": [
      "Name: nilmtk\n",
      "Version: 0.4.0.dev1+git.303d45b\n",
      "Summary: Estimate the energy consumed by individual appliances from whole-house power meter readings\n",
      "Home-page: https://github.com/nilmtk/nilmtk\n",
      "Author: NILMTK developers\n",
      "Author-email: UNKNOWN\n",
      "License: Apache 2.0\n",
      "Location: /home/hb/mambaforge/envs/nilm/lib/python3.7/site-packages\n",
      "Requires: pandas, numpy, networkx, scipy, tables, scikit-learn, hmmlearn, pyyaml, matplotlib, jupyterlab\n",
      "Required-by: nilmtk-contrib\n",
      "Name: tensorflow\n",
      "Version: 2.2.0\n",
      "Summary: TensorFlow is an open source machine learning framework for everyone.\n",
      "Home-page: https://www.tensorflow.org/\n",
      "Author: Google Inc.\n",
      "Author-email: packages@tensorflow.org\n",
      "License: Apache 2.0\n",
      "Location: /home/hb/mambaforge/envs/nilm/lib/python3.7/site-packages\n",
      "Requires: grpcio, wheel, numpy, opt-einsum, h5py, keras-preprocessing, protobuf, astunparse, tensorflow-estimator, gast, absl-py, six, termcolor, scipy, google-pasta, tensorboard, wrapt\n",
      "Required-by: \n",
      "Name: nilmtk-contrib\n",
      "Version: 0.1.1\n",
      "Summary: State-of-the-art algorithms for the task of energy disaggregation implemented using NILMTK's Rapid Experimentation API\n",
      "Home-page: https://github.com/nilmtk/nilmtk-contrib\n",
      "Author: NILMTK-contrib developers\n",
      "Author-email: \n",
      "License: Apache 2.0\n",
      "Location: /home/hb/mambaforge/envs/nilm/lib/python3.7/site-packages\n",
      "Requires: nilmtk, keras, cvxpy\n",
      "Required-by: \n",
      "Name: numpy\n",
      "Version: 1.19.5\n",
      "Summary: NumPy is the fundamental package for array computing with Python.\n",
      "Home-page: https://www.numpy.org\n",
      "Author: Travis E. Oliphant et al.\n",
      "Author-email: \n",
      "License: BSD\n",
      "Location: /home/hb/mambaforge/envs/nilm/lib/python3.7/site-packages\n",
      "Requires: \n",
      "Required-by: Theano, tensorflow, tensorboard, tables, scs, scipy, scikit-learn, qdldl, pandas, osqp, opt-einsum, numexpr, nilmtk, matplotlib, Keras, Keras-Preprocessing, Keras-Applications, hmmlearn, h5py, ecos, cvxpy\n",
      "Name: pandas\n",
      "Version: 0.25.3\n",
      "Summary: Powerful data structures for data analysis, time series, and statistics\n",
      "Home-page: http://pandas.pydata.org\n",
      "Author: \n",
      "Author-email: \n",
      "License: BSD\n",
      "Location: /home/hb/mambaforge/envs/nilm/lib/python3.7/site-packages\n",
      "Requires: numpy, pytz, python-dateutil\n",
      "Required-by: nilmtk, nilm-metadata\n",
      "Name: networkx\n",
      "Version: 2.1\n",
      "Summary: Python package for creating and manipulating graphs and networks\n",
      "Home-page: http://networkx.github.io/\n",
      "Author: Aric Hagberg\n",
      "Author-email: hagberg@lanl.gov\n",
      "License: BSD\n",
      "Location: /home/hb/mambaforge/envs/nilm/lib/python3.7/site-packages\n",
      "Requires: decorator\n",
      "Required-by: nilmtk\n",
      "Name: scipy\n",
      "Version: 1.7.1\n",
      "Summary: SciPy: Scientific Library for Python\n",
      "Home-page: https://www.scipy.org\n",
      "Author: \n",
      "Author-email: \n",
      "License: BSD\n",
      "Location: /home/hb/mambaforge/envs/nilm/lib/python3.7/site-packages\n",
      "Requires: numpy\n",
      "Required-by: Theano, tensorflow, scs, scikit-learn, qdldl, osqp, nilmtk, Keras, hmmlearn, ecos, cvxpy\n",
      "Name: scikit-learn\n",
      "Version: 0.24.2\n",
      "Summary: A set of python modules for machine learning and data mining\n",
      "Home-page: http://scikit-learn.org\n",
      "Author: \n",
      "Author-email: \n",
      "License: new BSD\n",
      "Location: /home/hb/mambaforge/envs/nilm/lib/python3.7/site-packages\n",
      "Requires: numpy, threadpoolctl, scipy, joblib\n",
      "Required-by: nilmtk, hmmlearn\n",
      "Name: h5py\n",
      "Version: 2.10.0\n",
      "Summary: Read and write HDF5 files from Python\n",
      "Home-page: http://www.h5py.org\n",
      "Author: Andrew Collette\n",
      "Author-email: andrew.collette@gmail.com\n",
      "License: BSD\n",
      "Location: /home/hb/mambaforge/envs/nilm/lib/python3.7/site-packages\n",
      "Requires: numpy, six\n",
      "Required-by: tensorflow, Keras, Keras-Applications\n",
      "Name: Keras\n",
      "Version: 2.3.1\n",
      "Summary: Deep Learning for humans\n",
      "Home-page: https://github.com/keras-team/keras\n",
      "Author: Francois Chollet\n",
      "Author-email: francois.chollet@gmail.com\n",
      "License: MIT\n",
      "Location: /home/hb/mambaforge/envs/nilm/lib/python3.7/site-packages\n",
      "Requires: six, keras-applications, scipy, h5py, keras-preprocessing, pyyaml, numpy\n",
      "Required-by: nilmtk-contrib\n"
     ]
    }
   ],
   "source": [
    "!pip show nilmtk\n",
    "!pip show tensorflow #<2.3\n",
    "!pip show nilmtk-contrib\n",
    "!pip show numpy\n",
    "!pip show pandas\n",
    "!pip show networkx\n",
    "!pip show scipy\n",
    "!pip show scikit-learn\n",
    "!pip show h5py #2.10\n",
    "!pip show keras #<2.4"
   ]
  },
  {
   "cell_type": "code",
   "execution_count": 2,
   "metadata": {},
   "outputs": [
    {
     "name": "stderr",
     "output_type": "stream",
     "text": [
      "Using TensorFlow backend.\n"
     ]
    }
   ],
   "source": [
    "from nilmtk.disaggregate import Mean,CO,Hart85\n",
    "# from nilmtk_contrib.disaggregate import AFHMM,AFHMM_SAC,DSC,RNN,Seq2Point,Seq2Seq,DAE,WindowGRU\n",
    "from nilmtk_contrib.disaggregate import RNN,Seq2Point,WindowGRU"
   ]
  },
  {
   "cell_type": "code",
   "execution_count": 5,
   "metadata": {},
   "outputs": [],
   "source": [
    "d = {\n",
    "  'power': {\n",
    "    'mains': ['apparent','active'],\n",
    "    'appliance': ['apparent','active']\n",
    "  },\n",
    "  'sample_rate': 60,\n",
    "  'display_predictions': True,\n",
    "  'appliances': ['washing machine'],\n",
    "  'methods': {\n",
    "      'Mean':Mean({}),\n",
    "      \"CO\":CO({}),\n",
    "      'Hart85':Hart85({}),\n",
    "      #'RNN':RNN({'n_epochs':50,'batch_size':1024}),\n",
    "      'Seq2Point':Seq2Point({'n_epochs':50,'batch_size':1024})\n",
    "      #'Seq2Seq':Seq2Seq({'n_epochs':50,'batch_size':1024}),\n",
    "      #'WindowGRU':WindowGRU({'n_epochs':30,'batch_size':1024})\n",
    "  },\n",
    " 'train': {\n",
    "    'datasets': {\n",
    "      'UKDALE': {\n",
    "        'path': './data/ukdale.h5',\n",
    "        'buildings': {\n",
    "              1: {\n",
    "                'start_time': '2017-01-05',\n",
    "                'end_time': '2017-03-05'\n",
    "              },\n",
    "          \n",
    "        }\n",
    "      },\n",
    "        \n",
    "    }\n",
    "  },\n",
    "    \n",
    "  'test': {\n",
    "    'datasets': {\n",
    "      'REDD': {\n",
    "        'path': './data/redd.h5',\n",
    "        'buildings': {\n",
    "              1: {\n",
    "                    'start_time': '2011-04-17',\n",
    "                    'end_time': '2011-04-27'\n",
    "          }\n",
    "        }\n",
    "      }\n",
    "    },\n",
    "    'metrics':['rmse', 'mae', 'relative_error', 'r2score', 'nde', 'nep', 'f1score']\n",
    "  }\n",
    "}"
   ]
  },
  {
   "cell_type": "code",
   "execution_count": 6,
   "metadata": {},
   "outputs": [
    {
     "name": "stdout",
     "output_type": "stream",
     "text": [
      "Joint Testing for all algorithms\n",
      "Loading data for  REDD  dataset\n",
      "Loading data for meter ElecMeterID(instance=2, building=1, dataset='REDD')     \n",
      "Done loading data all meters for this chunk.\n",
      "Loading data for meter ElecMeterID(instance=20, building=1, dataset='REDD')     \n",
      "Done loading data all meters for this chunk.\n",
      "Dropping missing values\n",
      "Generating predictions for : Mean\n",
      "Generating predictions for : CO\n",
      "...............CO disaggregate_chunk running.............\n",
      "Generating predictions for : Hart85g machine'\n",
      "Finding Edges, please wait ...\n",
      "Edge detection complete.\n",
      "Creating transition frame ...\n",
      "Transition frame created.\n",
      "Creating states frame ...\n",
      "States frame created.\n",
      "Finished.\n",
      "Generating predictions for : Seq2Point\n",
      "............  rmse  ..............\n",
      "                       Mean         CO      Hart85   Seq2Point\n",
      "washing machine  240.490994  475.31146  244.148224  207.017832\n",
      "............  mae  ..............\n",
      "                      Mean          CO     Hart85  Seq2Point\n",
      "washing machine  48.789108  195.819748  56.424557   21.91486\n",
      "............  relative_error  ..............\n",
      "                     Mean        CO     Hart85  Seq2Point\n",
      "washing machine  1.852197  0.987797  12.936861   0.281678\n",
      "............  r2score  ..............\n",
      "                     Mean        CO   Hart85  Seq2Point\n",
      "washing machine -0.000024 -2.906333 -0.03067   0.258983\n",
      "............  nde  ..............\n",
      "                     Mean        CO    Hart85  Seq2Point\n",
      "washing machine  0.994999  1.966537  1.010131   0.856508\n",
      "............  nep  ..............\n",
      "                     Mean        CO   Hart85  Seq2Point\n",
      "washing machine  2.018575  8.101744  2.33448   0.906694\n",
      "............  f1score  ..............\n",
      "                    Mean       CO    Hart85  Seq2Point\n",
      "washing machine  0.02435  0.02435  0.036135   0.393632\n"
     ]
    },
    {
     "data": {
      "image/png": "[encoded data removed]",
      "text/plain": [
       "<Figure size 432x288 with 1 Axes>"
      ]
     },
     "metadata": {
      "needs_background": "light"
     },
     "output_type": "display_data"
    }
   ],
   "source": [
    "\n",
    "api_res = API(d)\n"
   ]
  },
  {
   "cell_type": "code",
   "execution_count": 7,
   "metadata": {},
   "outputs": [
    {
     "data": {
      "text/plain": [
       "[                       Mean         CO      Hart85   Seq2Point\n",
       " washing machine  240.490994  475.31146  244.148224  207.017832,\n",
       "                       Mean          CO     Hart85  Seq2Point\n",
       " washing machine  48.789108  195.819748  56.424557   21.91486,\n",
       "                      Mean        CO     Hart85  Seq2Point\n",
       " washing machine  1.852197  0.987797  12.936861   0.281678,\n",
       "                      Mean        CO   Hart85  Seq2Point\n",
       " washing machine -0.000024 -2.906333 -0.03067   0.258983,\n",
       "                      Mean        CO    Hart85  Seq2Point\n",
       " washing machine  0.994999  1.966537  1.010131   0.856508,\n",
       "                      Mean        CO   Hart85  Seq2Point\n",
       " washing machine  2.018575  8.101744  2.33448   0.906694,\n",
       "                     Mean       CO    Hart85  Seq2Point\n",
       " washing machine  0.02435  0.02435  0.036135   0.393632]"
      ]
     },
     "execution_count": 7,
     "metadata": {},
     "output_type": "execute_result"
    }
   ],
   "source": [
    "api_res.errors"
   ]
  },
  {
   "cell_type": "code",
   "execution_count": 8,
   "metadata": {},
   "outputs": [
    {
     "data": {
      "text/plain": [
       "['REDD_1_rmse',\n",
       " 'REDD_1_mae',\n",
       " 'REDD_1_relative_error',\n",
       " 'REDD_1_r2score',\n",
       " 'REDD_1_nde',\n",
       " 'REDD_1_nep',\n",
       " 'REDD_1_f1score']"
      ]
     },
     "execution_count": 8,
     "metadata": {},
     "output_type": "execute_result"
    }
   ],
   "source": [
    "api_res.errors_keys"
   ]
  },
  {
   "cell_type": "code",
   "execution_count": null,
   "metadata": {},
   "outputs": [],
   "source": []
  },
  {
   "cell_type": "code",
   "execution_count": null,
   "metadata": {},
   "outputs": [],
   "source": []
  },
  {
   "cell_type": "code",
   "execution_count": null,
   "metadata": {},
   "outputs": [],
   "source": []
  }
 ],
 "metadata": {
  "kernelspec": {
   "display_name": "Python 3 (ipykernel)",
   "language": "python",
   "name": "python3"
  },
  "language_info": {
   "codemirror_mode": {
    "name": "ipython",
    "version": 3
   },
   "file_extension": ".py",
   "mimetype": "text/x-python",
   "name": "python",
   "nbconvert_exporter": "python",
   "pygments_lexer": "ipython3",
   "version": "3.7.12"
  }
 },
 "nbformat": 4,
 "nbformat_minor": 2
}
