{
 "cells": [
  {
   "cell_type": "code",
   "execution_count": null,
   "id": "65fd8bb0",
   "metadata": {},
   "outputs": [],
   "source": [
    "# from nilm_metadata import get_appliance_types\n",
    "# appliance_types = get_appliance_types()\n",
    "# print(appliance_types)\n",
    "\n",
    "# import os\n",
    "# os.getcwd()"
   ]
  },
  {
   "cell_type": "markdown",
   "id": "8bc7db35",
   "metadata": {},
   "source": [
    "## Carregando bibliotecas..."
   ]
  },
  {
   "cell_type": "code",
   "execution_count": 1,
   "id": "ed9b3fc7",
   "metadata": {},
   "outputs": [
    {
     "data": {
      "text/plain": [
       "PosixPath('/home/hb/projetos/nilmtk')"
      ]
     },
     "execution_count": 1,
     "metadata": {},
     "output_type": "execute_result"
    }
   ],
   "source": [
    "import pathlib\n",
    "pathlib.Path().resolve()"
   ]
  },
  {
   "cell_type": "code",
   "execution_count": 2,
   "id": "885df668",
   "metadata": {},
   "outputs": [
    {
     "name": "stdout",
     "output_type": "stream",
     "text": [
      "0.25.3\n"
     ]
    }
   ],
   "source": [
    "# from pandas.io.json import json_normalize\n",
    "# !pip install --upgrade pandas==\"0.25.3\"\n",
    "import pandas as pd\n",
    "print(pd.__version__)"
   ]
  },
  {
   "cell_type": "code",
   "execution_count": 3,
   "id": "49d9c103",
   "metadata": {
    "scrolled": true
   },
   "outputs": [],
   "source": [
    "# !pip install seaborn\n",
    "import seaborn as sns\n",
    "\n",
    "from matplotlib import rcParams\n",
    "import matplotlib.pyplot as plt\n",
    "import pandas as pd\n",
    "import nilmtk\n",
    "from nilmtk import MeterGroup\n",
    "from nilmtk.api import API\n",
    "import warnings\n",
    "warnings.filterwarnings(\"ignore\")\n",
    "\n",
    "plt.style.use('ggplot')\n",
    "rcParams['figure.figsize'] = (13, 10)\n",
    "\n",
    "\n",
    "# import pathlib\n",
    "# pathlib.Path().resolve()"
   ]
  },
  {
   "cell_type": "markdown",
   "id": "ee5edd9f",
   "metadata": {},
   "source": [
    "## Converter"
   ]
  },
  {
   "cell_type": "code",
   "execution_count": 4,
   "id": "954681e9",
   "metadata": {},
   "outputs": [
    {
     "name": "stdout",
     "output_type": "stream",
     "text": [
      "Checandso diretório\n",
      "Checando store\n",
      "<nilmtk.datastore.hdfdatastore.HDFDataStore object at 0x7fc801edae50>\n",
      "1 Checando KEY\n",
      "/building1/elec/meter1\n",
      "Checando measurements\n",
      "[('power', 'active'), ('power', 'apparent'), ('power', 'reactive'), ('power factor', ''), ('frequency', ''), ('voltage', ''), ('current', '')]\n",
      "Checando df.head\n",
      "<bound method NDFrame.head of                     power                         power factor  frequency  \\\n",
      "                   active    apparent    reactive                           \n",
      "1638916813000  914.400024  938.778015  212.500000         0.97  59.900002   \n",
      "1638916814000  914.400024  938.778015  212.500000         0.97  60.000000   \n",
      "1638916815000  913.299988  938.570007  216.300003         0.97  60.000000   \n",
      "1638916816000  916.700012  941.864014  216.300003         0.97  60.000000   \n",
      "1638916817000  910.500000  935.716003  215.800003         0.97  60.000000   \n",
      "...                   ...         ...         ...          ...        ...   \n",
      "1640138058000  415.799988  466.095001  210.600006         0.89  60.000000   \n",
      "1640138059000  416.500000  466.980988  211.199997         0.89  59.900002   \n",
      "1640138060000  416.500000  466.980988  211.199997         0.89  59.900002   \n",
      "1640138061000  415.700012  466.095001  210.800003         0.89  59.900002   \n",
      "1640138062000  415.799988  466.300995  211.100006         0.89  59.900002   \n",
      "\n",
      "                  voltage current  \n",
      "                                   \n",
      "1638916813000  219.699997   4.273  \n",
      "1638916814000  219.699997   4.273  \n",
      "1638916815000  219.600006   4.274  \n",
      "1638916816000  219.600006   4.289  \n",
      "1638916817000  219.600006   4.261  \n",
      "...                   ...     ...  \n",
      "1640138058000  226.699997   2.056  \n",
      "1640138059000  226.800003   2.059  \n",
      "1640138060000  226.800003   2.059  \n",
      "1640138061000  226.699997   2.056  \n",
      "1640138062000  226.800003   2.056  \n",
      "\n",
      "[1220191 rows x 7 columns]>\n",
      "Checando label colunas\n",
      "<bound method NDFrame.head of physical_quantity       power                         power factor  frequency  \\\n",
      "type                   active    apparent    reactive                           \n",
      "1638916813000      914.400024  938.778015  212.500000         0.97  59.900002   \n",
      "1638916814000      914.400024  938.778015  212.500000         0.97  60.000000   \n",
      "1638916815000      913.299988  938.570007  216.300003         0.97  60.000000   \n",
      "1638916816000      916.700012  941.864014  216.300003         0.97  60.000000   \n",
      "1638916817000      910.500000  935.716003  215.800003         0.97  60.000000   \n",
      "...                       ...         ...         ...          ...        ...   \n",
      "1640138058000      415.799988  466.095001  210.600006         0.89  60.000000   \n",
      "1640138059000      416.500000  466.980988  211.199997         0.89  59.900002   \n",
      "1640138060000      416.500000  466.980988  211.199997         0.89  59.900002   \n",
      "1640138061000      415.700012  466.095001  210.800003         0.89  59.900002   \n",
      "1640138062000      415.799988  466.300995  211.100006         0.89  59.900002   \n",
      "\n",
      "physical_quantity     voltage current  \n",
      "type                                   \n",
      "1638916813000      219.699997   4.273  \n",
      "1638916814000      219.699997   4.273  \n",
      "1638916815000      219.600006   4.274  \n",
      "1638916816000      219.600006   4.289  \n",
      "1638916817000      219.600006   4.261  \n",
      "...                       ...     ...  \n",
      "1640138058000      226.699997   2.056  \n",
      "1640138059000      226.800003   2.059  \n",
      "1640138060000      226.800003   2.059  \n",
      "1640138061000      226.699997   2.056  \n",
      "1640138062000      226.800003   2.056  \n",
      "\n",
      "[1220191 rows x 7 columns]>\n",
      "Checando tempo\n",
      "<bound method NDFrame.head of physical_quantity               power                         power factor  \\\n",
      "type                           active    apparent    reactive                \n",
      "2021-12-07 19:40:13-03:00  914.400024  938.778015  212.500000         0.97   \n",
      "2021-12-07 19:40:14-03:00  914.400024  938.778015  212.500000         0.97   \n",
      "2021-12-07 19:40:15-03:00  913.299988  938.570007  216.300003         0.97   \n",
      "2021-12-07 19:40:16-03:00  916.700012  941.864014  216.300003         0.97   \n",
      "2021-12-07 19:40:17-03:00  910.500000  935.716003  215.800003         0.97   \n",
      "...                               ...         ...         ...          ...   \n",
      "2021-12-21 22:54:18-03:00  415.799988  466.095001  210.600006         0.89   \n",
      "2021-12-21 22:54:19-03:00  416.500000  466.980988  211.199997         0.89   \n",
      "2021-12-21 22:54:20-03:00  416.500000  466.980988  211.199997         0.89   \n",
      "2021-12-21 22:54:21-03:00  415.700012  466.095001  210.800003         0.89   \n",
      "2021-12-21 22:54:22-03:00  415.799988  466.300995  211.100006         0.89   \n",
      "\n",
      "physical_quantity          frequency     voltage current  \n",
      "type                                                      \n",
      "2021-12-07 19:40:13-03:00  59.900002  219.699997   4.273  \n",
      "2021-12-07 19:40:14-03:00  60.000000  219.699997   4.273  \n",
      "2021-12-07 19:40:15-03:00  60.000000  219.600006   4.274  \n",
      "2021-12-07 19:40:16-03:00  60.000000  219.600006   4.289  \n",
      "2021-12-07 19:40:17-03:00  60.000000  219.600006   4.261  \n",
      "...                              ...         ...     ...  \n",
      "2021-12-21 22:54:18-03:00  60.000000  226.699997   2.056  \n",
      "2021-12-21 22:54:19-03:00  59.900002  226.800003   2.059  \n",
      "2021-12-21 22:54:20-03:00  59.900002  226.800003   2.059  \n",
      "2021-12-21 22:54:21-03:00  59.900002  226.699997   2.056  \n",
      "2021-12-21 22:54:22-03:00  59.900002  226.800003   2.056  \n",
      "\n",
      "[1220191 rows x 7 columns]>\n",
      "<bound method NDFrame.head of physical_quantity               power                         power factor  \\\n",
      "type                           active    apparent    reactive                \n",
      "2021-12-07 19:40:13-03:00  914.400024  938.778015  212.500000         0.97   \n",
      "2021-12-07 19:40:14-03:00  914.400024  938.778015  212.500000         0.97   \n",
      "2021-12-07 19:40:15-03:00  913.299988  938.570007  216.300003         0.97   \n",
      "2021-12-07 19:40:16-03:00  916.700012  941.864014  216.300003         0.97   \n",
      "2021-12-07 19:40:17-03:00  910.500000  935.716003  215.800003         0.97   \n",
      "...                               ...         ...         ...          ...   \n",
      "2021-12-21 22:54:18-03:00  415.799988  466.095001  210.600006         0.89   \n",
      "2021-12-21 22:54:19-03:00  416.500000  466.980988  211.199997         0.89   \n",
      "2021-12-21 22:54:20-03:00  416.500000  466.980988  211.199997         0.89   \n",
      "2021-12-21 22:54:21-03:00  415.700012  466.095001  210.800003         0.89   \n",
      "2021-12-21 22:54:22-03:00  415.799988  466.300995  211.100006         0.89   \n",
      "\n",
      "physical_quantity          frequency     voltage current  \n",
      "type                                                      \n",
      "2021-12-07 19:40:13-03:00  59.900002  219.699997   4.273  \n",
      "2021-12-07 19:40:14-03:00  60.000000  219.699997   4.273  \n",
      "2021-12-07 19:40:15-03:00  60.000000  219.600006   4.274  \n",
      "2021-12-07 19:40:16-03:00  60.000000  219.600006   4.289  \n",
      "2021-12-07 19:40:17-03:00  60.000000  219.600006   4.261  \n",
      "...                              ...         ...     ...  \n",
      "2021-12-21 22:54:18-03:00  60.000000  226.699997   2.056  \n",
      "2021-12-21 22:54:19-03:00  59.900002  226.800003   2.059  \n",
      "2021-12-21 22:54:20-03:00  59.900002  226.800003   2.059  \n",
      "2021-12-21 22:54:21-03:00  59.900002  226.699997   2.056  \n",
      "2021-12-21 22:54:22-03:00  59.900002  226.800003   2.056  \n",
      "\n",
      "[1220191 rows x 7 columns]>\n",
      "2 Checando KEY\n",
      "/building1/elec/meter2\n",
      "Checando measurements\n",
      "[('power', 'active'), ('power', 'apparent'), ('power', 'reactive'), ('power factor', ''), ('voltage', ''), ('current', '')]\n",
      "Checando df.head\n",
      "<bound method NDFrame.head of                power                       power factor     voltage current\n",
      "              active   apparent   reactive                                 \n",
      "1638916817000  0.000   0.000000   0.000000         0.00  219.906998   0.000\n",
      "1638916822000  0.000   0.000000   0.000000         0.00  219.145996   0.000\n",
      "1638916827000  0.000   0.000000   0.000000         0.00  219.145996   0.000\n",
      "1638916832000  0.000   0.000000   0.000000         0.00  219.145996   0.000\n",
      "1638916837000  0.000   0.000000   0.000000         0.00  219.145996   0.000\n",
      "...              ...        ...        ...          ...         ...     ...\n",
      "1640137539000  1.320  15.949000  15.900000         0.08  226.729996   0.070\n",
      "1640137544000  1.320  15.109000  15.100000         0.09  226.460007   0.067\n",
      "1640137549000  1.434  17.783001  17.700001         0.08  226.190002   0.079\n",
      "1640137554000  1.434  14.909000  14.800000         0.10  226.460007   0.066\n",
      "1640137559000  1.268  14.347000  14.300000         0.09  226.729996   0.063\n",
      "\n",
      "[244138 rows x 6 columns]>\n",
      "Checando label colunas\n",
      "<bound method NDFrame.head of physical_quantity  power                       power factor     voltage  \\\n",
      "type              active   apparent   reactive                            \n",
      "1638916817000      0.000   0.000000   0.000000         0.00  219.906998   \n",
      "1638916822000      0.000   0.000000   0.000000         0.00  219.145996   \n",
      "1638916827000      0.000   0.000000   0.000000         0.00  219.145996   \n",
      "1638916832000      0.000   0.000000   0.000000         0.00  219.145996   \n",
      "1638916837000      0.000   0.000000   0.000000         0.00  219.145996   \n",
      "...                  ...        ...        ...          ...         ...   \n",
      "1640137539000      1.320  15.949000  15.900000         0.08  226.729996   \n",
      "1640137544000      1.320  15.109000  15.100000         0.09  226.460007   \n",
      "1640137549000      1.434  17.783001  17.700001         0.08  226.190002   \n",
      "1640137554000      1.434  14.909000  14.800000         0.10  226.460007   \n",
      "1640137559000      1.268  14.347000  14.300000         0.09  226.729996   \n",
      "\n",
      "physical_quantity current  \n",
      "type                       \n",
      "1638916817000       0.000  \n",
      "1638916822000       0.000  \n",
      "1638916827000       0.000  \n",
      "1638916832000       0.000  \n",
      "1638916837000       0.000  \n",
      "...                   ...  \n",
      "1640137539000       0.070  \n",
      "1640137544000       0.067  \n",
      "1640137549000       0.079  \n",
      "1640137554000       0.066  \n",
      "1640137559000       0.063  \n",
      "\n",
      "[244138 rows x 6 columns]>\n",
      "Checando tempo\n",
      "<bound method NDFrame.head of physical_quantity          power                       power factor  \\\n",
      "type                      active   apparent   reactive                \n",
      "2021-12-07 19:40:17-03:00  0.000   0.000000   0.000000         0.00   \n",
      "2021-12-07 19:40:22-03:00  0.000   0.000000   0.000000         0.00   \n",
      "2021-12-07 19:40:27-03:00  0.000   0.000000   0.000000         0.00   \n",
      "2021-12-07 19:40:32-03:00  0.000   0.000000   0.000000         0.00   \n",
      "2021-12-07 19:40:37-03:00  0.000   0.000000   0.000000         0.00   \n",
      "...                          ...        ...        ...          ...   \n",
      "2021-12-21 22:45:39-03:00  1.320  15.949000  15.900000         0.08   \n",
      "2021-12-21 22:45:44-03:00  1.320  15.109000  15.100000         0.09   \n",
      "2021-12-21 22:45:49-03:00  1.434  17.783001  17.700001         0.08   \n",
      "2021-12-21 22:45:54-03:00  1.434  14.909000  14.800000         0.10   \n",
      "2021-12-21 22:45:59-03:00  1.268  14.347000  14.300000         0.09   \n",
      "\n",
      "physical_quantity             voltage current  \n",
      "type                                           \n",
      "2021-12-07 19:40:17-03:00  219.906998   0.000  \n",
      "2021-12-07 19:40:22-03:00  219.145996   0.000  \n",
      "2021-12-07 19:40:27-03:00  219.145996   0.000  \n",
      "2021-12-07 19:40:32-03:00  219.145996   0.000  \n",
      "2021-12-07 19:40:37-03:00  219.145996   0.000  \n",
      "...                               ...     ...  \n",
      "2021-12-21 22:45:39-03:00  226.729996   0.070  \n",
      "2021-12-21 22:45:44-03:00  226.460007   0.067  \n",
      "2021-12-21 22:45:49-03:00  226.190002   0.079  \n",
      "2021-12-21 22:45:54-03:00  226.460007   0.066  \n",
      "2021-12-21 22:45:59-03:00  226.729996   0.063  \n",
      "\n",
      "[244138 rows x 6 columns]>\n",
      "<bound method NDFrame.head of physical_quantity          power                       power factor  \\\n",
      "type                      active   apparent   reactive                \n",
      "2021-12-07 19:40:17-03:00  0.000   0.000000   0.000000         0.00   \n",
      "2021-12-07 19:40:22-03:00  0.000   0.000000   0.000000         0.00   \n",
      "2021-12-07 19:40:27-03:00  0.000   0.000000   0.000000         0.00   \n",
      "2021-12-07 19:40:32-03:00  0.000   0.000000   0.000000         0.00   \n",
      "2021-12-07 19:40:37-03:00  0.000   0.000000   0.000000         0.00   \n",
      "...                          ...        ...        ...          ...   \n",
      "2021-12-21 22:45:39-03:00  1.320  15.949000  15.900000         0.08   \n",
      "2021-12-21 22:45:44-03:00  1.320  15.109000  15.100000         0.09   \n",
      "2021-12-21 22:45:49-03:00  1.434  17.783001  17.700001         0.08   \n",
      "2021-12-21 22:45:54-03:00  1.434  14.909000  14.800000         0.10   \n",
      "2021-12-21 22:45:59-03:00  1.268  14.347000  14.300000         0.09   \n",
      "\n",
      "physical_quantity             voltage current  \n",
      "type                                           \n",
      "2021-12-07 19:40:17-03:00  219.906998   0.000  \n",
      "2021-12-07 19:40:22-03:00  219.145996   0.000  \n",
      "2021-12-07 19:40:27-03:00  219.145996   0.000  \n",
      "2021-12-07 19:40:32-03:00  219.145996   0.000  \n",
      "2021-12-07 19:40:37-03:00  219.145996   0.000  \n",
      "...                               ...     ...  \n",
      "2021-12-21 22:45:39-03:00  226.729996   0.070  \n",
      "2021-12-21 22:45:44-03:00  226.460007   0.067  \n",
      "2021-12-21 22:45:49-03:00  226.190002   0.079  \n",
      "2021-12-21 22:45:54-03:00  226.460007   0.066  \n",
      "2021-12-21 22:45:59-03:00  226.729996   0.063  \n",
      "\n",
      "[244138 rows x 6 columns]>\n"
     ]
    },
    {
     "name": "stdout",
     "output_type": "stream",
     "text": [
      "3 Checando KEY\n",
      "/building1/elec/meter3\n",
      "Checando measurements\n",
      "[('power', 'active'), ('power', 'apparent'), ('power', 'reactive'), ('power factor', ''), ('voltage', ''), ('current', '')]\n",
      "Checando df.head\n",
      "<bound method NDFrame.head of                     power                         power factor     voltage  \\\n",
      "                   active    apparent    reactive                            \n",
      "1638916816000  456.345001  489.479004  177.000000         0.93  218.742996   \n",
      "1638916821000  457.598999  490.704010  177.199997         0.93  218.488007   \n",
      "1638916826000  457.639008  491.869995  180.300003         0.93  218.235001   \n",
      "1638916831000  457.558014  491.329010  179.000000         0.93  218.488007   \n",
      "1638916836000  457.558014  488.704010  171.699997         0.94  218.488007   \n",
      "...                   ...         ...         ...          ...         ...   \n",
      "1640109758000    6.312000   76.057999   75.800003         0.08  217.981003   \n",
      "1640109763000    5.227000   76.258003   76.099998         0.07  219.509003   \n",
      "1640109768000    4.996000   77.318001   77.199997         0.06  220.281006   \n",
      "1640109773000    5.018000   77.320000   77.199997         0.06  220.281006   \n",
      "1640109778000    4.912000   77.239998   77.099998         0.06  220.281006   \n",
      "\n",
      "              current  \n",
      "                       \n",
      "1638916816000   2.238  \n",
      "1638916821000   2.246  \n",
      "1638916826000   2.254  \n",
      "1638916831000   2.249  \n",
      "1638916836000   2.237  \n",
      "...               ...  \n",
      "1640109758000   0.349  \n",
      "1640109763000   0.347  \n",
      "1640109768000   0.351  \n",
      "1640109773000   0.351  \n",
      "1640109778000   0.351  \n",
      "\n",
      "[238582 rows x 6 columns]>\n",
      "Checando label colunas\n",
      "<bound method NDFrame.head of physical_quantity       power                         power factor  \\\n",
      "type                   active    apparent    reactive                \n",
      "1638916816000      456.345001  489.479004  177.000000         0.93   \n",
      "1638916821000      457.598999  490.704010  177.199997         0.93   \n",
      "1638916826000      457.639008  491.869995  180.300003         0.93   \n",
      "1638916831000      457.558014  491.329010  179.000000         0.93   \n",
      "1638916836000      457.558014  488.704010  171.699997         0.94   \n",
      "...                       ...         ...         ...          ...   \n",
      "1640109758000        6.312000   76.057999   75.800003         0.08   \n",
      "1640109763000        5.227000   76.258003   76.099998         0.07   \n",
      "1640109768000        4.996000   77.318001   77.199997         0.06   \n",
      "1640109773000        5.018000   77.320000   77.199997         0.06   \n",
      "1640109778000        4.912000   77.239998   77.099998         0.06   \n",
      "\n",
      "physical_quantity     voltage current  \n",
      "type                                   \n",
      "1638916816000      218.742996   2.238  \n",
      "1638916821000      218.488007   2.246  \n",
      "1638916826000      218.235001   2.254  \n",
      "1638916831000      218.488007   2.249  \n",
      "1638916836000      218.488007   2.237  \n",
      "...                       ...     ...  \n",
      "1640109758000      217.981003   0.349  \n",
      "1640109763000      219.509003   0.347  \n",
      "1640109768000      220.281006   0.351  \n",
      "1640109773000      220.281006   0.351  \n",
      "1640109778000      220.281006   0.351  \n",
      "\n",
      "[238582 rows x 6 columns]>\n",
      "Checando tempo\n",
      "<bound method NDFrame.head of physical_quantity               power                         power factor  \\\n",
      "type                           active    apparent    reactive                \n",
      "2021-12-07 19:40:16-03:00  456.345001  489.479004  177.000000         0.93   \n",
      "2021-12-07 19:40:21-03:00  457.598999  490.704010  177.199997         0.93   \n",
      "2021-12-07 19:40:26-03:00  457.639008  491.869995  180.300003         0.93   \n",
      "2021-12-07 19:40:31-03:00  457.558014  491.329010  179.000000         0.93   \n",
      "2021-12-07 19:40:36-03:00  457.558014  488.704010  171.699997         0.94   \n",
      "...                               ...         ...         ...          ...   \n",
      "2021-12-21 15:02:38-03:00    6.312000   76.057999   75.800003         0.08   \n",
      "2021-12-21 15:02:43-03:00    5.227000   76.258003   76.099998         0.07   \n",
      "2021-12-21 15:02:48-03:00    4.996000   77.318001   77.199997         0.06   \n",
      "2021-12-21 15:02:53-03:00    5.018000   77.320000   77.199997         0.06   \n",
      "2021-12-21 15:02:58-03:00    4.912000   77.239998   77.099998         0.06   \n",
      "\n",
      "physical_quantity             voltage current  \n",
      "type                                           \n",
      "2021-12-07 19:40:16-03:00  218.742996   2.238  \n",
      "2021-12-07 19:40:21-03:00  218.488007   2.246  \n",
      "2021-12-07 19:40:26-03:00  218.235001   2.254  \n",
      "2021-12-07 19:40:31-03:00  218.488007   2.249  \n",
      "2021-12-07 19:40:36-03:00  218.488007   2.237  \n",
      "...                               ...     ...  \n",
      "2021-12-21 15:02:38-03:00  217.981003   0.349  \n",
      "2021-12-21 15:02:43-03:00  219.509003   0.347  \n",
      "2021-12-21 15:02:48-03:00  220.281006   0.351  \n",
      "2021-12-21 15:02:53-03:00  220.281006   0.351  \n",
      "2021-12-21 15:02:58-03:00  220.281006   0.351  \n",
      "\n",
      "[238582 rows x 6 columns]>\n",
      "<bound method NDFrame.head of physical_quantity               power                         power factor  \\\n",
      "type                           active    apparent    reactive                \n",
      "2021-12-07 19:40:16-03:00  456.345001  489.479004  177.000000         0.93   \n",
      "2021-12-07 19:40:21-03:00  457.598999  490.704010  177.199997         0.93   \n",
      "2021-12-07 19:40:26-03:00  457.639008  491.869995  180.300003         0.93   \n",
      "2021-12-07 19:40:31-03:00  457.558014  491.329010  179.000000         0.93   \n",
      "2021-12-07 19:40:36-03:00  457.558014  488.704010  171.699997         0.94   \n",
      "...                               ...         ...         ...          ...   \n",
      "2021-12-21 15:02:38-03:00    6.312000   76.057999   75.800003         0.08   \n",
      "2021-12-21 15:02:43-03:00    5.227000   76.258003   76.099998         0.07   \n",
      "2021-12-21 15:02:48-03:00    4.996000   77.318001   77.199997         0.06   \n",
      "2021-12-21 15:02:53-03:00    5.018000   77.320000   77.199997         0.06   \n",
      "2021-12-21 15:02:58-03:00    4.912000   77.239998   77.099998         0.06   \n",
      "\n",
      "physical_quantity             voltage current  \n",
      "type                                           \n",
      "2021-12-07 19:40:16-03:00  218.742996   2.238  \n",
      "2021-12-07 19:40:21-03:00  218.488007   2.246  \n",
      "2021-12-07 19:40:26-03:00  218.235001   2.254  \n",
      "2021-12-07 19:40:31-03:00  218.488007   2.249  \n",
      "2021-12-07 19:40:36-03:00  218.488007   2.237  \n",
      "...                               ...     ...  \n",
      "2021-12-21 15:02:38-03:00  217.981003   0.349  \n",
      "2021-12-21 15:02:43-03:00  219.509003   0.347  \n",
      "2021-12-21 15:02:48-03:00  220.281006   0.351  \n",
      "2021-12-21 15:02:53-03:00  220.281006   0.351  \n",
      "2021-12-21 15:02:58-03:00  220.281006   0.351  \n",
      "\n",
      "[238582 rows x 6 columns]>\n",
      "Loaded metadata\n",
      "Done converting YAML metadata to HDF5!\n"
     ]
    }
   ],
   "source": [
    "from nilmtk.dataset_converters import convert_hb\n",
    "convert_hb('./BD/CASA/convert_ar_lav/building1/elec/', './data/convert_ar_lav_utc5.h5')"
   ]
  },
  {
   "cell_type": "code",
   "execution_count": null,
   "id": "17f4efda",
   "metadata": {},
   "outputs": [],
   "source": [
    "# st = pd.HDFStore(\"./data/teste17.h5\")\n",
    "# print (st.keys())\n",
    "\n",
    "# print (st['/building1/elec/meter1'].head())\n",
    "# print (st['/building1/elec/meter2'].head())\n",
    "# print (st['/building1/elec/meter3'].head())\n",
    "\n",
    "# st.close()"
   ]
  },
  {
   "cell_type": "markdown",
   "id": "d9893b70",
   "metadata": {},
   "source": [
    "## Carregando dataset"
   ]
  },
  {
   "cell_type": "code",
   "execution_count": null,
   "id": "dd869ab4",
   "metadata": {},
   "outputs": [],
   "source": [
    "from nilmtk.api import API\n",
    "import warnings\n",
    "warnings.filterwarnings(\"ignore\")\n",
    "\n",
    "from nilmtk import DataSet\n",
    "from nilmtk.utils import print_dict\n",
    "\n",
    "hb = DataSet('./data/convert_ar_lav.h5')\n",
    "#iawe = DataSet('/data/iawe.h5')\n",
    "\n",
    "print_dict(hb.metadata)\n",
    "print_dict(hb.buildings)"
   ]
  },
  {
   "cell_type": "markdown",
   "id": "6086b192",
   "metadata": {},
   "source": [
    "## Gráfico Geral"
   ]
  },
  {
   "cell_type": "code",
   "execution_count": null,
   "id": "644efc84",
   "metadata": {},
   "outputs": [],
   "source": [
    "build = 1\n",
    "elec = hb.buildings[build].elec\n",
    "elec.mains().power_series_all_data().head()"
   ]
  },
  {
   "cell_type": "code",
   "execution_count": null,
   "id": "2c4af45c",
   "metadata": {},
   "outputs": [],
   "source": [
    "sns.set_palette(\"Set2\", n_colors=5)\n",
    "elec.mains().plot()\n",
    "elec['microwave'].plot()\n",
    "elec['fan'].plot()\n",
    "\n",
    "# Set a threshold to remove residual power noise when devices are off\n",
    "elec.plot_when_on(on_power_threshold = 40) # Plot appliances when they are in use¶\n",
    "\n",
    "# elec.draw_wiring_graph()"
   ]
  },
  {
   "cell_type": "markdown",
   "id": "11cde454",
   "metadata": {},
   "source": [
    "## Dados"
   ]
  },
  {
   "cell_type": "markdown",
   "id": "9d936a5c",
   "metadata": {},
   "source": [
    "##### Proporção de energia submedida"
   ]
  },
  {
   "cell_type": "code",
   "execution_count": null,
   "id": "089f18f3",
   "metadata": {},
   "outputs": [],
   "source": [
    "elec.proportion_of_energy_submetered()"
   ]
  },
  {
   "cell_type": "markdown",
   "id": "cd162b3a",
   "metadata": {},
   "source": [
    "##### Total Energy"
   ]
  },
  {
   "cell_type": "code",
   "execution_count": null,
   "id": "1abe6107",
   "metadata": {},
   "outputs": [],
   "source": [
    "elec.mains().total_energy()"
   ]
  },
  {
   "cell_type": "markdown",
   "id": "6d3502ae",
   "metadata": {},
   "source": [
    "##### Energy per submeter"
   ]
  },
  {
   "cell_type": "code",
   "execution_count": null,
   "id": "bfe0ed7d",
   "metadata": {},
   "outputs": [],
   "source": [
    "energy_per_meter = elec.submeters().energy_per_meter() # kWh, again\n",
    "energy_per_meter"
   ]
  },
  {
   "cell_type": "markdown",
   "id": "b8718487",
   "metadata": {},
   "source": [
    "#####  Plot fraction of energy consumption of each appliance"
   ]
  },
  {
   "cell_type": "code",
   "execution_count": null,
   "id": "92118ab9",
   "metadata": {},
   "outputs": [],
   "source": [
    "# fraction = elec.submeters().fraction_per_meter().dropna()\n",
    "fraction = elec.fraction_per_meter().dropna()\n",
    "# Create convenient labels\n",
    "labels = elec.get_labels(fraction.index)\n",
    "plt.figure(figsize=(10,30))\n",
    "fraction.plot(kind='pie', labels=labels);"
   ]
  },
  {
   "cell_type": "markdown",
   "id": "fd64b902",
   "metadata": {},
   "source": [
    "### Quadro Geral"
   ]
  },
  {
   "cell_type": "code",
   "execution_count": null,
   "id": "2ee9b2dc",
   "metadata": {},
   "outputs": [],
   "source": [
    "print(elec)\n",
    "elec.mains()"
   ]
  },
  {
   "cell_type": "code",
   "execution_count": null,
   "id": "2b8f19ec",
   "metadata": {
    "scrolled": true
   },
   "outputs": [],
   "source": [
    "from nilmtk.elecmeter import ElecMeterID##### Quadro Geral\n",
    "\n",
    "meter1 = elec[ElecMeterID(instance=1, building=build, dataset='HB')]\n",
    "\n",
    "next(meter1.load()).tail()"
   ]
  },
  {
   "cell_type": "code",
   "execution_count": null,
   "id": "f6eb4c9e",
   "metadata": {
    "scrolled": false
   },
   "outputs": [],
   "source": [
    "meter1.plot()"
   ]
  },
  {
   "cell_type": "markdown",
   "id": "cbb3a2ab",
   "metadata": {},
   "source": [
    "A taxa de abandono é um número entre 0 e 1 que especifica a proporção de amostras ausentes. Uma taxa de abandono de 0 significa que nenhuma amostra está faltando. Um valor de 1 significaria que todas as amostras estão faltando"
   ]
  },
  {
   "cell_type": "code",
   "execution_count": null,
   "id": "5a86c8d2",
   "metadata": {},
   "outputs": [],
   "source": [
    "meter1.dropout_rate()"
   ]
  },
  {
   "cell_type": "code",
   "execution_count": null,
   "id": "55f8c7e1",
   "metadata": {
    "scrolled": false
   },
   "outputs": [],
   "source": [
    "good_sections = meter1.good_sections(full_results=True)\n",
    "good_sections.plot()"
   ]
  },
  {
   "cell_type": "code",
   "execution_count": null,
   "id": "4f5eb679",
   "metadata": {
    "scrolled": true
   },
   "outputs": [],
   "source": [
    "good_sections.combined()"
   ]
  },
  {
   "cell_type": "markdown",
   "id": "0b957c94",
   "metadata": {},
   "source": [
    "##### Microondas"
   ]
  },
  {
   "cell_type": "code",
   "execution_count": null,
   "id": "1ce9f791",
   "metadata": {
    "scrolled": true
   },
   "outputs": [],
   "source": [
    "microwave= elec['microwave']\n",
    "#microwave.available_columns()\n",
    "next(microwave.load()).head()"
   ]
  },
  {
   "cell_type": "code",
   "execution_count": null,
   "id": "bbecbf6e",
   "metadata": {
    "scrolled": false
   },
   "outputs": [],
   "source": [
    "microwave.plot()"
   ]
  },
  {
   "cell_type": "markdown",
   "id": "9814c3b4",
   "metadata": {},
   "source": [
    "A taxa de abandono é um número entre 0 e 1 que especifica a proporção de amostras ausentes. Uma taxa de abandono de 0 significa que nenhuma amostra está faltando. Um valor de 1 significaria que todas as amostras estão faltando"
   ]
  },
  {
   "cell_type": "code",
   "execution_count": null,
   "id": "ee271089",
   "metadata": {},
   "outputs": [],
   "source": [
    "microwave.dropout_rate()"
   ]
  },
  {
   "cell_type": "code",
   "execution_count": null,
   "id": "7983f68d",
   "metadata": {},
   "outputs": [],
   "source": [
    "good_sections = microwave.good_sections(full_results=True)\n",
    "good_sections.plot()"
   ]
  },
  {
   "cell_type": "code",
   "execution_count": null,
   "id": "c32901cc",
   "metadata": {},
   "outputs": [],
   "source": [
    "good_sections.combined()"
   ]
  },
  {
   "cell_type": "markdown",
   "id": "fce49191",
   "metadata": {},
   "source": [
    "##### Ventilador"
   ]
  },
  {
   "cell_type": "code",
   "execution_count": null,
   "id": "6d35d0d9",
   "metadata": {},
   "outputs": [],
   "source": [
    "fan = elec['fan']\n",
    "#microwave.available_columns()\n",
    "next(fan.load()).tail()"
   ]
  },
  {
   "cell_type": "code",
   "execution_count": null,
   "id": "e81d20a0",
   "metadata": {},
   "outputs": [],
   "source": [
    "fan.plot()"
   ]
  },
  {
   "cell_type": "code",
   "execution_count": null,
   "id": "38a9d4a3",
   "metadata": {},
   "outputs": [],
   "source": [
    "good_sections = fan.good_sections(full_results=True)\n",
    "good_sections.plot()"
   ]
  },
  {
   "cell_type": "markdown",
   "id": "16ce5745",
   "metadata": {},
   "source": [
    "A taxa de abandono é um número entre 0 e 1 que especifica a proporção de amostras ausentes. Uma taxa de abandono de 0 significa que nenhuma amostra está faltando. Um valor de 1 significaria que todas as amostras estão faltando"
   ]
  },
  {
   "cell_type": "code",
   "execution_count": null,
   "id": "e3aa90fe",
   "metadata": {},
   "outputs": [],
   "source": [
    "fan.dropout_rate()"
   ]
  },
  {
   "cell_type": "code",
   "execution_count": null,
   "id": "af1efd89",
   "metadata": {},
   "outputs": [],
   "source": [
    "good_sections.combined()"
   ]
  },
  {
   "cell_type": "markdown",
   "id": "122ef887",
   "metadata": {},
   "source": [
    "###  Autocorrelation Plot"
   ]
  },
  {
   "cell_type": "code",
   "execution_count": null,
   "id": "540f0c3c",
   "metadata": {},
   "outputs": [],
   "source": [
    "# from pandas.plotting import autocorrelation_plot\n",
    "# elec.mains().plot_autocorrelation();"
   ]
  },
  {
   "cell_type": "markdown",
   "id": "9055e3ee",
   "metadata": {},
   "source": [
    "### Dataframe de correlação dos aparelhos"
   ]
  },
  {
   "cell_type": "code",
   "execution_count": null,
   "id": "6383d8bb",
   "metadata": {},
   "outputs": [],
   "source": [
    "# correlation_df = elec.pairwise_correlation()\n",
    "# correlation_df"
   ]
  },
  {
   "cell_type": "markdown",
   "id": "4b9f41c2",
   "metadata": {},
   "source": [
    "### Traçar dados submedidos em um 1 dia"
   ]
  },
  {
   "cell_type": "code",
   "execution_count": null,
   "id": "563fe850",
   "metadata": {},
   "outputs": [],
   "source": [
    "hb.set_window(start='2021-09-02', end='2021-09-13')\n",
    "elec.plot();\n",
    "plt.xlabel(\"Time\");"
   ]
  },
  {
   "cell_type": "code",
   "execution_count": null,
   "id": "c252ef2b",
   "metadata": {},
   "outputs": [],
   "source": [
    "hb.set_window(start='2021-09-05 00:00:00', end='2021-09-06 23:59:59')\n",
    "elec['microwave'].plot()\n",
    "elec['fan'].plot()\n",
    "plt.xlabel(\"Time\");"
   ]
  },
  {
   "cell_type": "markdown",
   "id": "a3eba875",
   "metadata": {},
   "source": [
    "Importamos os algoritmos que desejamos executar os experimentos:\n",
    "\n",
    "Mean: Mean Algorithm\n",
    "\n",
    "Hart's Algorithm\n",
    "\n",
    "CO: Combinatorial Optimization\n",
    "\n",
    "Discriminative Sparse Coding\n",
    "\n",
    "Additive Factorial Hidden Markov Model\n",
    "\n",
    "Additive Factorial Hidden Markov Model with Signal Aggregate Constraints\n",
    "\n",
    "DSC: Discriminative Sparse Coding\n",
    "\n",
    "RNN: Long short-term memory - LSTM\n",
    "\n",
    "DAE: Denoising Auto Encoder\n",
    "\n",
    "Seq2Point*\n",
    "\n",
    "Seq2Seq\n",
    "\n",
    "WindowGRU/Online GRU: Similar a LSTM, mas usa Gated Recurrent Unit (GRU)\n",
    "\n",
    "ELM"
   ]
  },
  {
   "cell_type": "code",
   "execution_count": null,
   "id": "ba5d2147",
   "metadata": {},
   "outputs": [],
   "source": [
    "from nilmtk.disaggregate import Mean,CO,Hart85\n",
    "# from nilmtk_contrib.disaggregate import AFHMM,AFHMM_SAC,DSC,RNN,Seq2Point,Seq2Seq,DAE,WindowGRU\n",
    "from nilmtk_contrib.disaggregate import RNN,Seq2Point,WindowGRU"
   ]
  },
  {
   "cell_type": "markdown",
   "id": "3c9def47",
   "metadata": {},
   "source": [
    "Em seguida, inserimos os valores para os diferentes parâmetros no dicionário. Como precisamos de vários aparelhos, inserimos os nomes de todos os aparelhos necessários no parâmetro 'appliances'.\n",
    "\n",
    "Métricas: https://github.com/nilmtk/nilmtk/blob/master/nilmtk/losses.py\n",
    "\n",
    "Error: https://github.com/nilmtk/nilmtk-contrib/issues/56"
   ]
  },
  {
   "cell_type": "code",
   "execution_count": null,
   "id": "8e54ee07",
   "metadata": {},
   "outputs": [],
   "source": [
    "d = {\n",
    "  'power': {\n",
    "    'mains': ['active'],\n",
    "    'appliance': ['active']   \n",
    "#     'mains': ['active', 'frequency', 'power factor', 'current', 'voltage'],\n",
    "#     'appliance': ['active', 'apparent', 'reactive', 'power factor', 'current', 'voltage']\n",
    "  },\n",
    "  'sample_rate': 5,\n",
    "  'display_predictions': True,\n",
    "  'appliances': ['microwave', 'fan'],\n",
    "  'methods': {\n",
    "      'Mean':Mean({}),\n",
    "#       \"CO\":CO({}),\n",
    "      'Hart85':Hart85({}),\n",
    "      'RNN':RNN({'n_epochs':50,'batch_size':1024}),\n",
    "      'Seq2Point':Seq2Point({'n_epochs':50,'batch_size':1024})\n",
    "      #'Seq2Seq':Seq2Seq({'n_epochs':50,'batch_size':1024}),\n",
    "      #'WindowGRU':WindowGRU({'n_epochs':30,'batch_size':1024})\n",
    "  },\n",
    " 'train': {\n",
    "    'datasets': {\n",
    "      'hb': {\n",
    "        'path': './data/teste17.h5',\n",
    "        'buildings': {\n",
    "              1: {\n",
    "                'start_time': '2021-09-02',\n",
    "                'end_time': '2021-09-04'\n",
    "              },\n",
    "          \n",
    "        }\n",
    "      },\n",
    "        \n",
    "    }\n",
    "  },\n",
    "    \n",
    "  'test': {\n",
    "    'datasets': {\n",
    "      'REDD': {\n",
    "        'path': './data/teste17.h5',\n",
    "        'buildings': {\n",
    "              1: {\n",
    "                    'start_time': '2021-09-05',\n",
    "                    'end_time': '2021-09-07'\n",
    "          }\n",
    "        }\n",
    "      }\n",
    "    },\n",
    "    'metrics':['rmse', 'mae', 'relative_error', 'r2score', 'nde', 'nep', 'f1score']\n",
    "  }\n",
    "}"
   ]
  },
  {
   "cell_type": "markdown",
   "id": "9c7f6c14",
   "metadata": {},
   "source": [
    "raiz do erro quadrático médio (RMSE) e o erro médio absoluto (MAE)\n",
    "\n",
    "Quanto menor o seu valor, melhor é o modelo, já que a previsão se mostra mais próxima ao valor real. Comparando as duas métricas têm se que o RMSE penaliza desvios grandes, enquanto o MAE tem pesos iguais para todos os desvios.\n",
    "\n",
    "We can observe the prediction vs. truth graphs in the above cell. The accuracy metrics can be accessed using the following commands:"
   ]
  },
  {
   "cell_type": "code",
   "execution_count": null,
   "id": "69350864",
   "metadata": {},
   "outputs": [],
   "source": [
    "api_res = API(d)"
   ]
  },
  {
   "cell_type": "code",
   "execution_count": null,
   "id": "cd4dd311",
   "metadata": {},
   "outputs": [],
   "source": [
    "import numpy as np\n",
    "import pandas as pd\n",
    "\n",
    "vals = np.concatenate([np.expand_dims(df.values,axis=2) for df in api_results_experiment_1.errors],axis=2)\n",
    "\n",
    "\n",
    "cols = api_results_experiment_1.errors[0].columns\n",
    "indexes = api_results_experiment_1.errors[0].index\n",
    "\n",
    "\n",
    "mean = np.mean(vals,axis=2)\n",
    "std = np.std(vals,axis=2)\n",
    "print ('\\n\\n')\n",
    "print (\"Mean\")\n",
    "print (pd.DataFrame(mean,index=indexes,columns=cols))\n",
    "print ('\\n\\n')\n",
    "print (\"Standard Deviation\")\n",
    "print (pd.DataFrame(std,index=indexes,columns=cols))"
   ]
  }
 ],
 "metadata": {
  "kernelspec": {
   "display_name": "Python 3 (ipykernel)",
   "language": "python",
   "name": "python3"
  },
  "language_info": {
   "codemirror_mode": {
    "name": "ipython",
    "version": 3
   },
   "file_extension": ".py",
   "mimetype": "text/x-python",
   "name": "python",
   "nbconvert_exporter": "python",
   "pygments_lexer": "ipython3",
   "version": "3.7.12"
  }
 },
 "nbformat": 4,
 "nbformat_minor": 5
}
