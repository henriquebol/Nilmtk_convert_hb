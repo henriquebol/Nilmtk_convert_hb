{
 "cells": [
  {
   "cell_type": "code",
   "execution_count": null,
   "id": "65fd8bb0",
   "metadata": {},
   "outputs": [],
   "source": [
    "# from nilm_metadata import get_appliance_types\n",
    "# appliance_types = get_appliance_types()\n",
    "# print(appliance_types)\n",
    "\n",
    "# import os\n",
    "# os.getcwd()"
   ]
  },
  {
   "cell_type": "markdown",
   "id": "8bc7db35",
   "metadata": {},
   "source": [
    "## Carregando bibliotecas..."
   ]
  },
  {
   "cell_type": "code",
   "execution_count": 1,
   "id": "49d9c103",
   "metadata": {},
   "outputs": [
    {
     "name": "stdout",
     "output_type": "stream",
     "text": [
      "Requirement already satisfied: seaborn in /home/hb/mambaforge/envs/nilm_0.4.3/lib/python3.7/site-packages (0.11.2)\n",
      "Requirement already satisfied: scipy>=1.0 in /home/hb/mambaforge/envs/nilm_0.4.3/lib/python3.7/site-packages (from seaborn) (1.7.3)\n",
      "Requirement already satisfied: matplotlib>=2.2 in /home/hb/mambaforge/envs/nilm_0.4.3/lib/python3.7/site-packages (from seaborn) (3.1.3)\n",
      "Requirement already satisfied: numpy>=1.15 in /home/hb/mambaforge/envs/nilm_0.4.3/lib/python3.7/site-packages (from seaborn) (1.19.5)\n",
      "Requirement already satisfied: pandas>=0.23 in /home/hb/mambaforge/envs/nilm_0.4.3/lib/python3.7/site-packages (from seaborn) (0.25.3)\n",
      "Requirement already satisfied: kiwisolver>=1.0.1 in /home/hb/mambaforge/envs/nilm_0.4.3/lib/python3.7/site-packages (from matplotlib>=2.2->seaborn) (1.3.2)\n",
      "Requirement already satisfied: python-dateutil>=2.1 in /home/hb/mambaforge/envs/nilm_0.4.3/lib/python3.7/site-packages (from matplotlib>=2.2->seaborn) (2.8.2)\n",
      "Requirement already satisfied: cycler>=0.10 in /home/hb/mambaforge/envs/nilm_0.4.3/lib/python3.7/site-packages (from matplotlib>=2.2->seaborn) (0.11.0)\n",
      "Requirement already satisfied: pyparsing!=2.0.4,!=2.1.2,!=2.1.6,>=2.0.1 in /home/hb/mambaforge/envs/nilm_0.4.3/lib/python3.7/site-packages (from matplotlib>=2.2->seaborn) (3.0.7)\n",
      "Requirement already satisfied: pytz>=2017.2 in /home/hb/mambaforge/envs/nilm_0.4.3/lib/python3.7/site-packages (from pandas>=0.23->seaborn) (2021.3)\n",
      "Requirement already satisfied: six>=1.5 in /home/hb/mambaforge/envs/nilm_0.4.3/lib/python3.7/site-packages (from python-dateutil>=2.1->matplotlib>=2.2->seaborn) (1.16.0)\n"
     ]
    }
   ],
   "source": [
    "!pip install seaborn\n",
    "\n",
    "import seaborn as sns\n",
    "\n",
    "from matplotlib import rcParams\n",
    "import matplotlib.pyplot as plt\n",
    "import pandas as pd\n",
    "import nilmtk\n",
    "from nilmtk import MeterGroup\n",
    "from nilmtk.api import API\n",
    "import warnings\n",
    "warnings.filterwarnings(\"ignore\")\n",
    "\n",
    "plt.style.use('ggplot')\n",
    "rcParams['figure.figsize'] = (13, 10)\n",
    "\n",
    "# import pathlib\n",
    "# pathlib.Path().resolve()"
   ]
  },
  {
   "cell_type": "markdown",
   "id": "ee5edd9f",
   "metadata": {},
   "source": [
    "## Converter"
   ]
  },
  {
   "cell_type": "code",
   "execution_count": 2,
   "id": "954681e9",
   "metadata": {},
   "outputs": [],
   "source": [
    "# from nilmtk.dataset_converters import convert_hb\n",
    "# convert_hb('./BD/CASA/convert', './data/teste17.h5')"
   ]
  },
  {
   "cell_type": "code",
   "execution_count": 3,
   "id": "17f4efda",
   "metadata": {},
   "outputs": [],
   "source": [
    "# st = pd.HDFStore(\"./data/teste17.h5\")\n",
    "# print (st.keys())\n",
    "\n",
    "# print (st['/building1/elec/meter1'].head())\n",
    "# print (st['/building1/elec/meter2'].head())\n",
    "# print (st['/building1/elec/meter3'].head())\n",
    "\n",
    "# st.close()"
   ]
  },
  {
   "cell_type": "markdown",
   "id": "d9893b70",
   "metadata": {},
   "source": [
    "## Carregando dataset"
   ]
  },
  {
   "cell_type": "code",
   "execution_count": 4,
   "id": "dd869ab4",
   "metadata": {},
   "outputs": [
    {
     "data": {
      "text/html": [
       "<ul><li><strong>name</strong>: HB</li><li><strong>long_name</strong>: The Reference Energy Disaggregation Data set</li><li><strong>creators</strong>: <ul><li>Henrique</li></ul></li><li><strong>publication_date</strong>: 2021</li><li><strong>institution</strong>: IFCE</li><li><strong>contact</strong>: henrique@ufc.br</li><li><strong>description</strong>: Several weeks of power data for 6 different homes.</li><li><strong>subject</strong>: Disaggregated power demand from domestic buildings.</li><li><strong>number_of_buildings</strong>: 1</li><li><strong>timezone</strong>: America/Fortaleza</li><li><strong>geo_location</strong>: <ul><li><strong>locality</strong>: Fortaleza</li><li><strong>country</strong>: BR</li><li><strong>latitude</strong>: -3.743443904897663</li><li><strong>longitude</strong>: -38.526093995496886</li></ul></li><li><strong>related_documents</strong>: <ul><li><a href=\"http://redd.csail.mit.edu\">http://redd.csail.mit.edu</a></li><li>J. Zico Kolter and Matthew J. Johnson. REDD: A public data set for energy disaggregation research. In proceedings of the SustKDD workshop on Data Mining Applications in Sustainability, 2011. <a href=\"http://redd.csail.mit.edu/kolter-kddsust11.pdf\">http://redd.csail.mit.edu/kolter-kddsust11.pdf</a>\n",
       "</li></ul></li><li><strong>schema</strong>: <a href=\"https://github.com/nilmtk/nilm_metadata/tree/v0.2\">https://github.com/nilmtk/nilm_metadata/tree/v0.2</a></li><li><strong>meter_devices</strong>: <ul><li><strong>Sonoff_POW</strong>: <ul><li><strong>model</strong>: Sonoff_POWR2_Tasmota</li><li><strong>manufacturer</strong>: Sonoff</li><li><strong>manufacturer_url</strong>: <a href=\"http://sonoff.tech\">http://sonoff.tech</a></li><li><strong>description</strong>: Model: POWR2 Product Type: Smart switch module Shell Material: PC V0 Certification: CE/FCC/ROHS Product Weight: 77g Dimension: 114x52x33mm Voltage: 100-240V AC 50/60Hz Wi-Fi: IEEE 802.11 b/g/n Max. Load: 15A/3500W\n",
       "</li><li><strong>sample_period</strong>: 5</li><li><strong>max_sample_period</strong>: 25</li><li><strong>measurements</strong>: <ul><li>{'physical_quantity': 'power', 'type': 'active', 'upper_limit': 2057, 'lower_limit': 0}</li><li>{'physical_quantity': 'power', 'type': 'apparent', 'upper_limit': 2186, 'lower_limit': 0}</li><li>{'physical_quantity': 'power', 'type': 'reactive', 'upper_limit': 1963, 'lower_limit': 0}</li><li>{'physical_quantity': 'power factor', 'upper_limit': 1, 'lower_limit': 0}</li><li>{'physical_quantity': 'voltage', 'upper_limit': 231, 'lower_limit': 202}</li><li>{'physical_quantity': 'current', 'upper_limit': 10, 'lower_limit': 0}</li></ul></li><li><strong>wireless</strong>: True</li></ul></li><li><strong>PZEM_whole_house</strong>: <ul><li><strong>model</strong>: Pzem004t_esp8266_Tasmota</li><li><strong>description</strong>: <a href=\"https://innovatorsguru.com/wp-content/uploads/2019/06/PZEM-004T-V3.0-Datasheet-User-Manual.pdf\">https://innovatorsguru.com/wp-content/uploads/2019/06/PZEM-004T-V3.0-Datasheet-User-Manual.pdf</a>\n",
       "</li><li><strong>sample_period</strong>: 1</li><li><strong>max_sample_period</strong>: 57</li><li><strong>measurements</strong>: <ul><li>{'physical_quantity': 'voltage', 'upper_limit': 231, 'lower_limit': 203}</li><li>{'physical_quantity': 'current', 'upper_limit': 20, 'lower_limit': 0}</li><li>{'physical_quantity': 'power', 'type': 'active', 'upper_limit': 4235, 'lower_limit': 27}</li><li>{'physical_quantity': 'power', 'type': 'apparent', 'upper_limit': 4245, 'lower_limit': 152}</li><li>{'physical_quantity': 'power', 'type': 'reactive', 'upper_limit': 2145, 'lower_limit': 0}</li><li>{'physical_quantity': 'frequency', 'upper_limit': 61, 'lower_limit': 59}</li><li>{'physical_quantity': 'power factor', 'upper_limit': 1, 'lower_limit': 0}</li></ul></li><li><strong>wireless</strong>: True</li></ul></li></ul></li></ul>"
      ],
      "text/plain": [
       "<IPython.core.display.HTML object>"
      ]
     },
     "metadata": {},
     "output_type": "display_data"
    },
    {
     "data": {
      "text/html": [
       "<ul><li><strong>1</strong>: Building(instance=1, dataset='HB')</li></ul>"
      ],
      "text/plain": [
       "<IPython.core.display.HTML object>"
      ]
     },
     "metadata": {},
     "output_type": "display_data"
    }
   ],
   "source": [
    "from nilmtk.api import API\n",
    "import warnings\n",
    "warnings.filterwarnings(\"ignore\")\n",
    "\n",
    "from nilmtk import DataSet\n",
    "from nilmtk.utils import print_dict\n",
    "\n",
    "#hb = DataSet('teste17.h5') # ventilador e microondas\n",
    "# hb = DataSet('convert_ar_lav.h5') # ar e lava roupas\n",
    "hb = DataSet('convert_ar_lav_utc5.h5') # ar e lava roupas\n",
    "# redd = DataSet('redd.h5')\n",
    "\n",
    "#iawe = DataSet('/data/iawe.h5')\n",
    "\n",
    "print_dict(hb.metadata)\n",
    "print_dict(hb.buildings)"
   ]
  },
  {
   "cell_type": "markdown",
   "id": "0657b5da",
   "metadata": {},
   "source": [
    "# Espectrograma\n",
    "\n",
    "Teniendo en cuenta sólo en consumo agregado, podemos realizar esta especie de espectograma donde el eje-y es el día de la semana y el eje-x la hora del día. De esta forma, obtener información valiosa de cuando hay una mayor actividad en la casa\n",
    "\n",
    "Levando em conta apenas o consumo agregado, podemos fazer esse tipo de espectrograma onde o eixo y é o dia da semana e o eixo x é a hora do dia. Dessa forma, obtenha informações valiosas sobre quando há uma maior atividade na casa\n",
    "\n",
    "https://github.com/josemao/nilmtk_practicas/blob/master/3%20-%20Estudio%20previo%20a%20la%20desagregacion%20(busqueda%20de%20patrones)%20(solucion).ipynb"
   ]
  },
  {
   "cell_type": "code",
   "execution_count": 5,
   "id": "bc495dff",
   "metadata": {},
   "outputs": [
    {
     "name": "stdout",
     "output_type": "stream",
     "text": [
      "Loading data for meter ElecMeterID(instance=3, building=1, dataset='HB')     \n",
      "Done loading data all meters for this chunk.\n"
     ]
    },
    {
     "data": {
      "text/plain": [
       "2021-12-07 19:40:10-03:00     914.400024\n",
       "2021-12-07 19:40:15-03:00    1370.045044\n",
       "2021-12-07 19:40:20-03:00    1369.598999\n",
       "2021-12-07 19:40:25-03:00    1368.818970\n",
       "2021-12-07 19:40:30-03:00    1368.677979\n",
       "                                ...     \n",
       "2021-12-21 22:54:00-03:00     416.260010\n",
       "2021-12-21 22:54:05-03:00     416.139984\n",
       "2021-12-21 22:54:10-03:00     416.320007\n",
       "2021-12-21 22:54:15-03:00     416.039978\n",
       "2021-12-21 22:54:20-03:00     416.100006\n",
       "Freq: 5S, Name: (power, active), Length: 244251, dtype: float32"
      ]
     },
     "execution_count": 5,
     "metadata": {},
     "output_type": "execute_result"
    }
   ],
   "source": [
    "hb.buildings[1].elec.power_series_all_data()"
   ]
  },
  {
   "cell_type": "code",
   "execution_count": 8,
   "id": "a984bacc",
   "metadata": {},
   "outputs": [
    {
     "name": "stdout",
     "output_type": "stream",
     "text": [
      "Loading data for meter ElecMeterID(instance=3, building=1, dataset='HB')     \n",
      "Done loading data all meters for this chunk.\n",
      "                                 power\n",
      "                                active\n",
      "2021-12-07 19:30:00-03:00  1316.247314\n",
      "2021-12-07 20:00:00-03:00  1169.833618\n",
      "2021-12-07 20:30:00-03:00  1148.769897\n",
      "2021-12-07 21:00:00-03:00  1067.955078\n",
      "2021-12-07 21:30:00-03:00   938.222839\n",
      "...                                ...\n",
      "2021-12-21 20:30:00-03:00   782.862305\n",
      "2021-12-21 21:00:00-03:00   660.876282\n",
      "2021-12-21 21:30:00-03:00   581.597290\n",
      "2021-12-21 22:00:00-03:00  1727.098999\n",
      "2021-12-21 22:30:00-03:00   953.704468\n",
      "\n",
      "[679 rows x 1 columns]\n"
     ]
    },
    {
     "data": {
      "text/plain": [
       "[Text(0, 0, 'Segunda'),\n",
       " Text(0, 0, 'Terça'),\n",
       " Text(0, 0, 'Quarta'),\n",
       " Text(0, 0, 'Quinta'),\n",
       " Text(0, 0, 'Sexta'),\n",
       " Text(0, 0, 'Sabado'),\n",
       " Text(0, 0, 'Domingo')]"
      ]
     },
     "execution_count": 8,
     "metadata": {},
     "output_type": "execute_result"
    },
    {
     "data": {
      "image/png": "[encoded data removed]",
      "text/plain": [
       "<Figure size 1152x288 with 1 Axes>"
      ]
     },
     "metadata": {},
     "output_type": "display_data"
    }
   ],
   "source": [
    "import numpy as np\n",
    "df=hb.buildings[1].elec.power_series_all_data(sample_period=60*30).to_frame()\n",
    "print(df)\n",
    "df.fillna(0,inplace=True)\n",
    "df.columns=['active']\n",
    "df['weekday']=df.index.weekday\n",
    "df['time']=df.index.time\n",
    "matrix=df.groupby(['weekday','time']).active.mean().unstack().values\n",
    "plt.figure(figsize=(16, 4))\n",
    "ax = plt.gca()\n",
    "plt.pcolor(matrix)\n",
    "plt.xlim([0,48])\n",
    "ax.set_xticks(np.arange(0,49,12))\n",
    "ax.set_xticklabels(['00:00','06:00','12:00','18:00','00:00'])\n",
    "ax.set_yticks(np.arange(0.5,7))\n",
    "ax.set_yticklabels(['Segunda','Terça','Quarta','Quinta','Sexta','Sabado','Domingo'])"
   ]
  },
  {
   "cell_type": "markdown",
   "id": "0da3eef4",
   "metadata": {},
   "source": [
    "Olhado para o espectograma da potência ativa do quadro geral, visualmente é possível identificar padrões no uso da energia. Como os dados foram capturados em uma residência durante o periodo de pandemia e os residentes estavam trabalhando em home office, o padrão é um pouco irregular, mas fica claro que as atividades são distribuídas durante o dia, \n",
    "\n",
    "\n",
    "Casa 2 (padrão irregular): Atividade média-alta muito distribuída durante a noite. Possível distúrbio do sono. Atividade também distribuída durante o dia, possivelmente trabalhando em casa. \n",
    "\n",
    "Casa 3 (padrão regular): Baixa atividade nas tardes de sexta e sábado. Inicia a sua actividade em média à mesma hora do dia de segunda a sexta-feira \n",
    "\n",
    "Casa 4 (padrão irregular): Actividade média-alta durante a noite excepto sexta, sábado e domingo. Ele provavelmente passa muitos fins de semana fora de casa. Atividade distribuída durante o dia. \n",
    "\n",
    "Casa 5 (padrão anormal): Possivelmente os dados não foram coletados adequadamente. \n",
    "\n",
    "Casa 6 (padrão regular): Alta atividade a partir das 18h, exceto aos sábados, onde a atividade se movimenta à noite. Terça e quinta à noite alta atividade à noite. Possível rotina de trabalho noturno."
   ]
  },
  {
   "cell_type": "markdown",
   "id": "8dd6ec21",
   "metadata": {},
   "source": [
    "# Patrones de uso"
   ]
  },
  {
   "cell_type": "code",
   "execution_count": 6,
   "id": "4aa9223a",
   "metadata": {},
   "outputs": [
    {
     "data": {
      "text/plain": [
       "MeterGroup(meters=\n",
       "  ElecMeter(instance=1, building=1, dataset='HB', site_meter, appliances=[])\n",
       "  ElecMeter(instance=2, building=1, dataset='HB', appliances=[Appliance(type='washer dryer', instance=1)])\n",
       "  ElecMeter(instance=3, building=1, dataset='HB', appliances=[Appliance(type='air conditioner', instance=1)])\n",
       ")"
      ]
     },
     "execution_count": 6,
     "metadata": {},
     "output_type": "execute_result"
    }
   ],
   "source": [
    "elecs=hb.buildings[1].elec\n",
    "elecs\n"
   ]
  },
  {
   "cell_type": "markdown",
   "id": "322cfb97",
   "metadata": {},
   "source": [
    "Escolhemos um dispositivo, extraímos o dataframe com seu consumo e rotulamos por horas."
   ]
  },
  {
   "cell_type": "code",
   "execution_count": 15,
   "id": "793d8db6",
   "metadata": {},
   "outputs": [
    {
     "data": {
      "text/html": [
       "<div>\n",
       "<style scoped>\n",
       "    .dataframe tbody tr th:only-of-type {\n",
       "        vertical-align: middle;\n",
       "    }\n",
       "\n",
       "    .dataframe tbody tr th {\n",
       "        vertical-align: top;\n",
       "    }\n",
       "\n",
       "    .dataframe thead th {\n",
       "        text-align: right;\n",
       "    }\n",
       "</style>\n",
       "<table border=\"1\" class=\"dataframe\">\n",
       "  <thead>\n",
       "    <tr style=\"text-align: right;\">\n",
       "      <th></th>\n",
       "      <th>powerapparent</th>\n",
       "      <th>voltage</th>\n",
       "      <th>poweractive</th>\n",
       "      <th>power factor</th>\n",
       "      <th>current</th>\n",
       "      <th>powerreactive</th>\n",
       "      <th>hour</th>\n",
       "    </tr>\n",
       "  </thead>\n",
       "  <tbody>\n",
       "    <tr>\n",
       "      <th>2021-12-07 19:40:17-03:00</th>\n",
       "      <td>0.0</td>\n",
       "      <td>219.906998</td>\n",
       "      <td>0.0</td>\n",
       "      <td>0.0</td>\n",
       "      <td>0.0</td>\n",
       "      <td>0.0</td>\n",
       "      <td>19</td>\n",
       "    </tr>\n",
       "    <tr>\n",
       "      <th>2021-12-07 19:40:22-03:00</th>\n",
       "      <td>0.0</td>\n",
       "      <td>219.145996</td>\n",
       "      <td>0.0</td>\n",
       "      <td>0.0</td>\n",
       "      <td>0.0</td>\n",
       "      <td>0.0</td>\n",
       "      <td>19</td>\n",
       "    </tr>\n",
       "    <tr>\n",
       "      <th>2021-12-07 19:40:27-03:00</th>\n",
       "      <td>0.0</td>\n",
       "      <td>219.145996</td>\n",
       "      <td>0.0</td>\n",
       "      <td>0.0</td>\n",
       "      <td>0.0</td>\n",
       "      <td>0.0</td>\n",
       "      <td>19</td>\n",
       "    </tr>\n",
       "    <tr>\n",
       "      <th>2021-12-07 19:40:32-03:00</th>\n",
       "      <td>0.0</td>\n",
       "      <td>219.145996</td>\n",
       "      <td>0.0</td>\n",
       "      <td>0.0</td>\n",
       "      <td>0.0</td>\n",
       "      <td>0.0</td>\n",
       "      <td>19</td>\n",
       "    </tr>\n",
       "    <tr>\n",
       "      <th>2021-12-07 19:40:37-03:00</th>\n",
       "      <td>0.0</td>\n",
       "      <td>219.145996</td>\n",
       "      <td>0.0</td>\n",
       "      <td>0.0</td>\n",
       "      <td>0.0</td>\n",
       "      <td>0.0</td>\n",
       "      <td>19</td>\n",
       "    </tr>\n",
       "  </tbody>\n",
       "</table>\n",
       "</div>"
      ],
      "text/plain": [
       "                           powerapparent     voltage  poweractive  \\\n",
       "2021-12-07 19:40:17-03:00            0.0  219.906998          0.0   \n",
       "2021-12-07 19:40:22-03:00            0.0  219.145996          0.0   \n",
       "2021-12-07 19:40:27-03:00            0.0  219.145996          0.0   \n",
       "2021-12-07 19:40:32-03:00            0.0  219.145996          0.0   \n",
       "2021-12-07 19:40:37-03:00            0.0  219.145996          0.0   \n",
       "\n",
       "                           power factor  current  powerreactive  hour  \n",
       "2021-12-07 19:40:17-03:00           0.0      0.0            0.0    19  \n",
       "2021-12-07 19:40:22-03:00           0.0      0.0            0.0    19  \n",
       "2021-12-07 19:40:27-03:00           0.0      0.0            0.0    19  \n",
       "2021-12-07 19:40:32-03:00           0.0      0.0            0.0    19  \n",
       "2021-12-07 19:40:37-03:00           0.0      0.0            0.0    19  "
      ]
     },
     "execution_count": 15,
     "metadata": {},
     "output_type": "execute_result"
    }
   ],
   "source": [
    "elecs=hb.buildings[1].elec\n",
    "elecs\n",
    "\n",
    "# elec=elecs['air conditioner'] #'washer dryer'\n",
    "elec=elecs['washer dryer'] #'washer dryer'\n",
    "\n",
    "elec\n",
    "df=next(elec.load())\n",
    "columns = [''.join(col).strip() for col in df.columns.values]\n",
    "df.columns=columns\n",
    "df['hour']=df.index.hour\n",
    "df.head()"
   ]
  },
  {
   "cell_type": "markdown",
   "id": "9d38ffc3",
   "metadata": {},
   "source": [
    "Agrupamos a potência ativa por horas somando e dividindo pela potência ativa total."
   ]
  },
  {
   "cell_type": "code",
   "execution_count": 16,
   "id": "3314420f",
   "metadata": {},
   "outputs": [
    {
     "data": {
      "text/plain": [
       "<matplotlib.axes._subplots.AxesSubplot at 0x7f6846889bd0>"
      ]
     },
     "execution_count": 16,
     "metadata": {},
     "output_type": "execute_result"
    },
    {
     "data": {
      "image/png": "[encoded data removed]",
      "text/plain": [
       "<Figure size 936x720 with 1 Axes>"
      ]
     },
     "metadata": {},
     "output_type": "display_data"
    }
   ],
   "source": [
    "pattern=df.groupby('hour').sum()[columns[2]]/df[columns[2]].sum()\n",
    "pattern.plot(kind='bar')\n"
   ]
  },
  {
   "cell_type": "code",
   "execution_count": 17,
   "id": "8758c7e3",
   "metadata": {},
   "outputs": [
    {
     "data": {
      "text/plain": [
       "<matplotlib.axes._subplots.AxesSubplot at 0x7f6846772410>"
      ]
     },
     "execution_count": 17,
     "metadata": {},
     "output_type": "execute_result"
    },
    {
     "data": {
      "image/png": "[encoded data removed]",
      "text/plain": [
       "<Figure size 936x720 with 1 Axes>"
      ]
     },
     "metadata": {},
     "output_type": "display_data"
    }
   ],
   "source": [
    "df['weekday']=df.index.weekday\n",
    "pattern=df.groupby('weekday').sum()[columns[2]]/df[columns[2]].sum()\n",
    "pattern.plot(kind='bar')"
   ]
  },
  {
   "cell_type": "markdown",
   "id": "a81f9932",
   "metadata": {},
   "source": [
    "**Imprimir** mínimo y máximo de datetime y la diferencia de ambos"
   ]
  },
  {
   "cell_type": "code",
   "execution_count": 18,
   "id": "2f0148c8",
   "metadata": {
    "collapsed": true
   },
   "outputs": [
    {
     "ename": "KeyError",
     "evalue": "'Time'",
     "output_type": "error",
     "traceback": [
      "\u001b[0;31m---------------------------------------------------------------------------\u001b[0m",
      "\u001b[0;31mKeyError\u001b[0m                                  Traceback (most recent call last)",
      "\u001b[0;32m~/mambaforge/envs/nilm_0.4.3/lib/python3.7/site-packages/pandas/core/indexes/base.py\u001b[0m in \u001b[0;36mget_loc\u001b[0;34m(self, key, method, tolerance)\u001b[0m\n\u001b[1;32m   2896\u001b[0m             \u001b[0;32mtry\u001b[0m\u001b[0;34m:\u001b[0m\u001b[0;34m\u001b[0m\u001b[0;34m\u001b[0m\u001b[0m\n\u001b[0;32m-> 2897\u001b[0;31m                 \u001b[0;32mreturn\u001b[0m \u001b[0mself\u001b[0m\u001b[0;34m.\u001b[0m\u001b[0m_engine\u001b[0m\u001b[0;34m.\u001b[0m\u001b[0mget_loc\u001b[0m\u001b[0;34m(\u001b[0m\u001b[0mkey\u001b[0m\u001b[0;34m)\u001b[0m\u001b[0;34m\u001b[0m\u001b[0;34m\u001b[0m\u001b[0m\n\u001b[0m\u001b[1;32m   2898\u001b[0m             \u001b[0;32mexcept\u001b[0m \u001b[0mKeyError\u001b[0m\u001b[0;34m:\u001b[0m\u001b[0;34m\u001b[0m\u001b[0;34m\u001b[0m\u001b[0m\n",
      "\u001b[0;32mpandas/_libs/index.pyx\u001b[0m in \u001b[0;36mpandas._libs.index.IndexEngine.get_loc\u001b[0;34m()\u001b[0m\n",
      "\u001b[0;32mpandas/_libs/index.pyx\u001b[0m in \u001b[0;36mpandas._libs.index.IndexEngine.get_loc\u001b[0;34m()\u001b[0m\n",
      "\u001b[0;32mpandas/_libs/hashtable_class_helper.pxi\u001b[0m in \u001b[0;36mpandas._libs.hashtable.PyObjectHashTable.get_item\u001b[0;34m()\u001b[0m\n",
      "\u001b[0;32mpandas/_libs/hashtable_class_helper.pxi\u001b[0m in \u001b[0;36mpandas._libs.hashtable.PyObjectHashTable.get_item\u001b[0;34m()\u001b[0m\n",
      "\u001b[0;31mKeyError\u001b[0m: 'Time'",
      "\nDuring handling of the above exception, another exception occurred:\n",
      "\u001b[0;31mKeyError\u001b[0m                                  Traceback (most recent call last)",
      "\u001b[0;32m/tmp/ipykernel_44382/820666454.py\u001b[0m in \u001b[0;36m<module>\u001b[0;34m\u001b[0m\n\u001b[0;32m----> 1\u001b[0;31m \u001b[0mprint\u001b[0m\u001b[0;34m(\u001b[0m\u001b[0mdf\u001b[0m\u001b[0;34m[\u001b[0m\u001b[0;34m'Time'\u001b[0m\u001b[0;34m]\u001b[0m\u001b[0;34m.\u001b[0m\u001b[0mmin\u001b[0m\u001b[0;34m(\u001b[0m\u001b[0;34m)\u001b[0m\u001b[0;34m)\u001b[0m\u001b[0;34m\u001b[0m\u001b[0;34m\u001b[0m\u001b[0m\n\u001b[0m\u001b[1;32m      2\u001b[0m \u001b[0mprint\u001b[0m\u001b[0;34m(\u001b[0m\u001b[0mdf\u001b[0m\u001b[0;34m[\u001b[0m\u001b[0;34m'Time'\u001b[0m\u001b[0;34m]\u001b[0m\u001b[0;34m.\u001b[0m\u001b[0mmax\u001b[0m\u001b[0;34m(\u001b[0m\u001b[0;34m)\u001b[0m\u001b[0;34m)\u001b[0m\u001b[0;34m\u001b[0m\u001b[0;34m\u001b[0m\u001b[0m\n\u001b[1;32m      3\u001b[0m \u001b[0mprint\u001b[0m \u001b[0;34m(\u001b[0m\u001b[0mdf\u001b[0m\u001b[0;34m[\u001b[0m\u001b[0;34m'Time'\u001b[0m\u001b[0;34m]\u001b[0m\u001b[0;34m.\u001b[0m\u001b[0mmax\u001b[0m\u001b[0;34m(\u001b[0m\u001b[0;34m)\u001b[0m\u001b[0;34m-\u001b[0m\u001b[0mdf\u001b[0m\u001b[0;34m[\u001b[0m\u001b[0;34m'Time'\u001b[0m\u001b[0;34m]\u001b[0m\u001b[0;34m.\u001b[0m\u001b[0mmin\u001b[0m\u001b[0;34m(\u001b[0m\u001b[0;34m)\u001b[0m\u001b[0;34m)\u001b[0m\u001b[0;34m\u001b[0m\u001b[0;34m\u001b[0m\u001b[0m\n",
      "\u001b[0;32m~/mambaforge/envs/nilm_0.4.3/lib/python3.7/site-packages/pandas/core/frame.py\u001b[0m in \u001b[0;36m__getitem__\u001b[0;34m(self, key)\u001b[0m\n\u001b[1;32m   2993\u001b[0m             \u001b[0;32mif\u001b[0m \u001b[0mself\u001b[0m\u001b[0;34m.\u001b[0m\u001b[0mcolumns\u001b[0m\u001b[0;34m.\u001b[0m\u001b[0mnlevels\u001b[0m \u001b[0;34m>\u001b[0m \u001b[0;36m1\u001b[0m\u001b[0;34m:\u001b[0m\u001b[0;34m\u001b[0m\u001b[0;34m\u001b[0m\u001b[0m\n\u001b[1;32m   2994\u001b[0m                 \u001b[0;32mreturn\u001b[0m \u001b[0mself\u001b[0m\u001b[0;34m.\u001b[0m\u001b[0m_getitem_multilevel\u001b[0m\u001b[0;34m(\u001b[0m\u001b[0mkey\u001b[0m\u001b[0;34m)\u001b[0m\u001b[0;34m\u001b[0m\u001b[0;34m\u001b[0m\u001b[0m\n\u001b[0;32m-> 2995\u001b[0;31m             \u001b[0mindexer\u001b[0m \u001b[0;34m=\u001b[0m \u001b[0mself\u001b[0m\u001b[0;34m.\u001b[0m\u001b[0mcolumns\u001b[0m\u001b[0;34m.\u001b[0m\u001b[0mget_loc\u001b[0m\u001b[0;34m(\u001b[0m\u001b[0mkey\u001b[0m\u001b[0;34m)\u001b[0m\u001b[0;34m\u001b[0m\u001b[0;34m\u001b[0m\u001b[0m\n\u001b[0m\u001b[1;32m   2996\u001b[0m             \u001b[0;32mif\u001b[0m \u001b[0mis_integer\u001b[0m\u001b[0;34m(\u001b[0m\u001b[0mindexer\u001b[0m\u001b[0;34m)\u001b[0m\u001b[0;34m:\u001b[0m\u001b[0;34m\u001b[0m\u001b[0;34m\u001b[0m\u001b[0m\n\u001b[1;32m   2997\u001b[0m                 \u001b[0mindexer\u001b[0m \u001b[0;34m=\u001b[0m \u001b[0;34m[\u001b[0m\u001b[0mindexer\u001b[0m\u001b[0;34m]\u001b[0m\u001b[0;34m\u001b[0m\u001b[0;34m\u001b[0m\u001b[0m\n",
      "\u001b[0;32m~/mambaforge/envs/nilm_0.4.3/lib/python3.7/site-packages/pandas/core/indexes/base.py\u001b[0m in \u001b[0;36mget_loc\u001b[0;34m(self, key, method, tolerance)\u001b[0m\n\u001b[1;32m   2897\u001b[0m                 \u001b[0;32mreturn\u001b[0m \u001b[0mself\u001b[0m\u001b[0;34m.\u001b[0m\u001b[0m_engine\u001b[0m\u001b[0;34m.\u001b[0m\u001b[0mget_loc\u001b[0m\u001b[0;34m(\u001b[0m\u001b[0mkey\u001b[0m\u001b[0;34m)\u001b[0m\u001b[0;34m\u001b[0m\u001b[0;34m\u001b[0m\u001b[0m\n\u001b[1;32m   2898\u001b[0m             \u001b[0;32mexcept\u001b[0m \u001b[0mKeyError\u001b[0m\u001b[0;34m:\u001b[0m\u001b[0;34m\u001b[0m\u001b[0;34m\u001b[0m\u001b[0m\n\u001b[0;32m-> 2899\u001b[0;31m                 \u001b[0;32mreturn\u001b[0m \u001b[0mself\u001b[0m\u001b[0;34m.\u001b[0m\u001b[0m_engine\u001b[0m\u001b[0;34m.\u001b[0m\u001b[0mget_loc\u001b[0m\u001b[0;34m(\u001b[0m\u001b[0mself\u001b[0m\u001b[0;34m.\u001b[0m\u001b[0m_maybe_cast_indexer\u001b[0m\u001b[0;34m(\u001b[0m\u001b[0mkey\u001b[0m\u001b[0;34m)\u001b[0m\u001b[0;34m)\u001b[0m\u001b[0;34m\u001b[0m\u001b[0;34m\u001b[0m\u001b[0m\n\u001b[0m\u001b[1;32m   2900\u001b[0m         \u001b[0mindexer\u001b[0m \u001b[0;34m=\u001b[0m \u001b[0mself\u001b[0m\u001b[0;34m.\u001b[0m\u001b[0mget_indexer\u001b[0m\u001b[0;34m(\u001b[0m\u001b[0;34m[\u001b[0m\u001b[0mkey\u001b[0m\u001b[0;34m]\u001b[0m\u001b[0;34m,\u001b[0m \u001b[0mmethod\u001b[0m\u001b[0;34m=\u001b[0m\u001b[0mmethod\u001b[0m\u001b[0;34m,\u001b[0m \u001b[0mtolerance\u001b[0m\u001b[0;34m=\u001b[0m\u001b[0mtolerance\u001b[0m\u001b[0;34m)\u001b[0m\u001b[0;34m\u001b[0m\u001b[0;34m\u001b[0m\u001b[0m\n\u001b[1;32m   2901\u001b[0m         \u001b[0;32mif\u001b[0m \u001b[0mindexer\u001b[0m\u001b[0;34m.\u001b[0m\u001b[0mndim\u001b[0m \u001b[0;34m>\u001b[0m \u001b[0;36m1\u001b[0m \u001b[0;32mor\u001b[0m \u001b[0mindexer\u001b[0m\u001b[0;34m.\u001b[0m\u001b[0msize\u001b[0m \u001b[0;34m>\u001b[0m \u001b[0;36m1\u001b[0m\u001b[0;34m:\u001b[0m\u001b[0;34m\u001b[0m\u001b[0;34m\u001b[0m\u001b[0m\n",
      "\u001b[0;32mpandas/_libs/index.pyx\u001b[0m in \u001b[0;36mpandas._libs.index.IndexEngine.get_loc\u001b[0;34m()\u001b[0m\n",
      "\u001b[0;32mpandas/_libs/index.pyx\u001b[0m in \u001b[0;36mpandas._libs.index.IndexEngine.get_loc\u001b[0;34m()\u001b[0m\n",
      "\u001b[0;32mpandas/_libs/hashtable_class_helper.pxi\u001b[0m in \u001b[0;36mpandas._libs.hashtable.PyObjectHashTable.get_item\u001b[0;34m()\u001b[0m\n",
      "\u001b[0;32mpandas/_libs/hashtable_class_helper.pxi\u001b[0m in \u001b[0;36mpandas._libs.hashtable.PyObjectHashTable.get_item\u001b[0;34m()\u001b[0m\n",
      "\u001b[0;31mKeyError\u001b[0m: 'Time'"
     ]
    }
   ],
   "source": [
    "print(df['Time'].min())\n",
    "print(df['Time'].max())\n",
    "print (df['Time'].max()-df['Time'].min())\n"
   ]
  },
  {
   "cell_type": "markdown",
   "id": "2d20e22c",
   "metadata": {},
   "source": [
    "https://github.com/nilmtk/nilmtk/blob/303d45bf6c39b44d76c35e8aaa690cef6af8ae38/nilmtk/electric.py#L780"
   ]
  },
  {
   "cell_type": "code",
   "execution_count": 25,
   "id": "34534e1b",
   "metadata": {
    "collapsed": true
   },
   "outputs": [
    {
     "ename": "ValueError",
     "evalue": "Buffer dtype mismatch, expected 'float32_t' but got 'double'",
     "output_type": "error",
     "traceback": [
      "\u001b[0;31m---------------------------------------------------------------------------\u001b[0m",
      "\u001b[0;31mValueError\u001b[0m                                Traceback (most recent call last)",
      "\u001b[0;32m/tmp/ipykernel_44382/4261972049.py\u001b[0m in \u001b[0;36m<module>\u001b[0;34m\u001b[0m\n\u001b[1;32m      5\u001b[0m \u001b[0mdf2\u001b[0m\u001b[0;34m=\u001b[0m\u001b[0mnext\u001b[0m\u001b[0;34m(\u001b[0m\u001b[0melec\u001b[0m\u001b[0;34m.\u001b[0m\u001b[0mload\u001b[0m\u001b[0;34m(\u001b[0m\u001b[0;34m)\u001b[0m\u001b[0;34m)\u001b[0m\u001b[0;34m\u001b[0m\u001b[0;34m\u001b[0m\u001b[0m\n\u001b[1;32m      6\u001b[0m \u001b[0;34m\u001b[0m\u001b[0m\n\u001b[0;32m----> 7\u001b[0;31m \u001b[0mactiv\u001b[0m \u001b[0;34m=\u001b[0m \u001b[0mget_activations\u001b[0m\u001b[0;34m(\u001b[0m\u001b[0mdf2\u001b[0m\u001b[0;34m,\u001b[0m \u001b[0;36m15\u001b[0m\u001b[0;34m,\u001b[0m \u001b[0;36m15\u001b[0m\u001b[0;34m,\u001b[0m \u001b[0;36m1\u001b[0m\u001b[0;34m,\u001b[0m \u001b[0;36m10\u001b[0m\u001b[0;34m)\u001b[0m\u001b[0;34m\u001b[0m\u001b[0;34m\u001b[0m\u001b[0m\n\u001b[0m\u001b[1;32m      8\u001b[0m \u001b[0mactiv\u001b[0m\u001b[0;34m\u001b[0m\u001b[0;34m\u001b[0m\u001b[0m\n",
      "\u001b[0;32m/tmp/ipykernel_44382/2118643801.py\u001b[0m in \u001b[0;36mget_activations\u001b[0;34m(chunk, min_off_duration, min_on_duration, border, on_power_threshold)\u001b[0m\n\u001b[1;32m     25\u001b[0m \u001b[0;34m\u001b[0m\u001b[0m\n\u001b[1;32m     26\u001b[0m     \u001b[0;31m# Find state changes\u001b[0m\u001b[0;34m\u001b[0m\u001b[0;34m\u001b[0m\u001b[0;34m\u001b[0m\u001b[0m\n\u001b[0;32m---> 27\u001b[0;31m     \u001b[0mstate_changes\u001b[0m \u001b[0;34m=\u001b[0m \u001b[0mwhen_on\u001b[0m\u001b[0;34m.\u001b[0m\u001b[0mastype\u001b[0m\u001b[0;34m(\u001b[0m\u001b[0mnp\u001b[0m\u001b[0;34m.\u001b[0m\u001b[0mint8\u001b[0m\u001b[0;34m)\u001b[0m\u001b[0;34m.\u001b[0m\u001b[0mdiff\u001b[0m\u001b[0;34m(\u001b[0m\u001b[0;34m)\u001b[0m\u001b[0;34m\u001b[0m\u001b[0;34m\u001b[0m\u001b[0m\n\u001b[0m\u001b[1;32m     28\u001b[0m     \u001b[0;32mdel\u001b[0m \u001b[0mwhen_on\u001b[0m\u001b[0;34m\u001b[0m\u001b[0;34m\u001b[0m\u001b[0m\n\u001b[1;32m     29\u001b[0m     \u001b[0mswitch_on_events\u001b[0m \u001b[0;34m=\u001b[0m \u001b[0mnp\u001b[0m\u001b[0;34m.\u001b[0m\u001b[0mwhere\u001b[0m\u001b[0;34m(\u001b[0m\u001b[0mstate_changes\u001b[0m \u001b[0;34m==\u001b[0m \u001b[0;36m1\u001b[0m\u001b[0;34m)\u001b[0m\u001b[0;34m[\u001b[0m\u001b[0;36m0\u001b[0m\u001b[0;34m]\u001b[0m\u001b[0;34m\u001b[0m\u001b[0;34m\u001b[0m\u001b[0m\n",
      "\u001b[0;32m~/mambaforge/envs/nilm_0.4.3/lib/python3.7/site-packages/pandas/core/frame.py\u001b[0m in \u001b[0;36mdiff\u001b[0;34m(self, periods, axis)\u001b[0m\n\u001b[1;32m   6607\u001b[0m         \"\"\"\n\u001b[1;32m   6608\u001b[0m         \u001b[0mbm_axis\u001b[0m \u001b[0;34m=\u001b[0m \u001b[0mself\u001b[0m\u001b[0;34m.\u001b[0m\u001b[0m_get_block_manager_axis\u001b[0m\u001b[0;34m(\u001b[0m\u001b[0maxis\u001b[0m\u001b[0;34m)\u001b[0m\u001b[0;34m\u001b[0m\u001b[0;34m\u001b[0m\u001b[0m\n\u001b[0;32m-> 6609\u001b[0;31m         \u001b[0mnew_data\u001b[0m \u001b[0;34m=\u001b[0m \u001b[0mself\u001b[0m\u001b[0;34m.\u001b[0m\u001b[0m_data\u001b[0m\u001b[0;34m.\u001b[0m\u001b[0mdiff\u001b[0m\u001b[0;34m(\u001b[0m\u001b[0mn\u001b[0m\u001b[0;34m=\u001b[0m\u001b[0mperiods\u001b[0m\u001b[0;34m,\u001b[0m \u001b[0maxis\u001b[0m\u001b[0;34m=\u001b[0m\u001b[0mbm_axis\u001b[0m\u001b[0;34m)\u001b[0m\u001b[0;34m\u001b[0m\u001b[0;34m\u001b[0m\u001b[0m\n\u001b[0m\u001b[1;32m   6610\u001b[0m         \u001b[0;32mreturn\u001b[0m \u001b[0mself\u001b[0m\u001b[0;34m.\u001b[0m\u001b[0m_constructor\u001b[0m\u001b[0;34m(\u001b[0m\u001b[0mnew_data\u001b[0m\u001b[0;34m)\u001b[0m\u001b[0;34m\u001b[0m\u001b[0;34m\u001b[0m\u001b[0m\n\u001b[1;32m   6611\u001b[0m \u001b[0;34m\u001b[0m\u001b[0m\n",
      "\u001b[0;32m~/mambaforge/envs/nilm_0.4.3/lib/python3.7/site-packages/pandas/core/internals/managers.py\u001b[0m in \u001b[0;36mdiff\u001b[0;34m(self, **kwargs)\u001b[0m\n\u001b[1;32m    564\u001b[0m \u001b[0;34m\u001b[0m\u001b[0m\n\u001b[1;32m    565\u001b[0m     \u001b[0;32mdef\u001b[0m \u001b[0mdiff\u001b[0m\u001b[0;34m(\u001b[0m\u001b[0mself\u001b[0m\u001b[0;34m,\u001b[0m \u001b[0;34m**\u001b[0m\u001b[0mkwargs\u001b[0m\u001b[0;34m)\u001b[0m\u001b[0;34m:\u001b[0m\u001b[0;34m\u001b[0m\u001b[0;34m\u001b[0m\u001b[0m\n\u001b[0;32m--> 566\u001b[0;31m         \u001b[0;32mreturn\u001b[0m \u001b[0mself\u001b[0m\u001b[0;34m.\u001b[0m\u001b[0mapply\u001b[0m\u001b[0;34m(\u001b[0m\u001b[0;34m\"diff\"\u001b[0m\u001b[0;34m,\u001b[0m \u001b[0;34m**\u001b[0m\u001b[0mkwargs\u001b[0m\u001b[0;34m)\u001b[0m\u001b[0;34m\u001b[0m\u001b[0;34m\u001b[0m\u001b[0m\n\u001b[0m\u001b[1;32m    567\u001b[0m \u001b[0;34m\u001b[0m\u001b[0m\n\u001b[1;32m    568\u001b[0m     \u001b[0;32mdef\u001b[0m \u001b[0minterpolate\u001b[0m\u001b[0;34m(\u001b[0m\u001b[0mself\u001b[0m\u001b[0;34m,\u001b[0m \u001b[0;34m**\u001b[0m\u001b[0mkwargs\u001b[0m\u001b[0;34m)\u001b[0m\u001b[0;34m:\u001b[0m\u001b[0;34m\u001b[0m\u001b[0;34m\u001b[0m\u001b[0m\n",
      "\u001b[0;32m~/mambaforge/envs/nilm_0.4.3/lib/python3.7/site-packages/pandas/core/internals/managers.py\u001b[0m in \u001b[0;36mapply\u001b[0;34m(self, f, axes, filter, do_integrity_check, consolidate, **kwargs)\u001b[0m\n\u001b[1;32m    436\u001b[0m                     \u001b[0mkwargs\u001b[0m\u001b[0;34m[\u001b[0m\u001b[0mk\u001b[0m\u001b[0;34m]\u001b[0m \u001b[0;34m=\u001b[0m \u001b[0mobj\u001b[0m\u001b[0;34m.\u001b[0m\u001b[0mreindex\u001b[0m\u001b[0;34m(\u001b[0m\u001b[0mb_items\u001b[0m\u001b[0;34m,\u001b[0m \u001b[0maxis\u001b[0m\u001b[0;34m=\u001b[0m\u001b[0maxis\u001b[0m\u001b[0;34m,\u001b[0m \u001b[0mcopy\u001b[0m\u001b[0;34m=\u001b[0m\u001b[0malign_copy\u001b[0m\u001b[0;34m)\u001b[0m\u001b[0;34m\u001b[0m\u001b[0;34m\u001b[0m\u001b[0m\n\u001b[1;32m    437\u001b[0m \u001b[0;34m\u001b[0m\u001b[0m\n\u001b[0;32m--> 438\u001b[0;31m             \u001b[0mapplied\u001b[0m \u001b[0;34m=\u001b[0m \u001b[0mgetattr\u001b[0m\u001b[0;34m(\u001b[0m\u001b[0mb\u001b[0m\u001b[0;34m,\u001b[0m \u001b[0mf\u001b[0m\u001b[0;34m)\u001b[0m\u001b[0;34m(\u001b[0m\u001b[0;34m**\u001b[0m\u001b[0mkwargs\u001b[0m\u001b[0;34m)\u001b[0m\u001b[0;34m\u001b[0m\u001b[0;34m\u001b[0m\u001b[0m\n\u001b[0m\u001b[1;32m    439\u001b[0m             \u001b[0mresult_blocks\u001b[0m \u001b[0;34m=\u001b[0m \u001b[0m_extend_blocks\u001b[0m\u001b[0;34m(\u001b[0m\u001b[0mapplied\u001b[0m\u001b[0;34m,\u001b[0m \u001b[0mresult_blocks\u001b[0m\u001b[0;34m)\u001b[0m\u001b[0;34m\u001b[0m\u001b[0;34m\u001b[0m\u001b[0m\n\u001b[1;32m    440\u001b[0m \u001b[0;34m\u001b[0m\u001b[0m\n",
      "\u001b[0;32m~/mambaforge/envs/nilm_0.4.3/lib/python3.7/site-packages/pandas/core/internals/blocks.py\u001b[0m in \u001b[0;36mdiff\u001b[0;34m(self, n, axis)\u001b[0m\n\u001b[1;32m   1327\u001b[0m     \u001b[0;32mdef\u001b[0m \u001b[0mdiff\u001b[0m\u001b[0;34m(\u001b[0m\u001b[0mself\u001b[0m\u001b[0;34m,\u001b[0m \u001b[0mn\u001b[0m\u001b[0;34m,\u001b[0m \u001b[0maxis\u001b[0m\u001b[0;34m=\u001b[0m\u001b[0;36m1\u001b[0m\u001b[0;34m)\u001b[0m\u001b[0;34m:\u001b[0m\u001b[0;34m\u001b[0m\u001b[0;34m\u001b[0m\u001b[0m\n\u001b[1;32m   1328\u001b[0m         \u001b[0;34m\"\"\" return block for the diff of the values \"\"\"\u001b[0m\u001b[0;34m\u001b[0m\u001b[0;34m\u001b[0m\u001b[0m\n\u001b[0;32m-> 1329\u001b[0;31m         \u001b[0mnew_values\u001b[0m \u001b[0;34m=\u001b[0m \u001b[0malgos\u001b[0m\u001b[0;34m.\u001b[0m\u001b[0mdiff\u001b[0m\u001b[0;34m(\u001b[0m\u001b[0mself\u001b[0m\u001b[0;34m.\u001b[0m\u001b[0mvalues\u001b[0m\u001b[0;34m,\u001b[0m \u001b[0mn\u001b[0m\u001b[0;34m,\u001b[0m \u001b[0maxis\u001b[0m\u001b[0;34m=\u001b[0m\u001b[0maxis\u001b[0m\u001b[0;34m)\u001b[0m\u001b[0;34m\u001b[0m\u001b[0;34m\u001b[0m\u001b[0m\n\u001b[0m\u001b[1;32m   1330\u001b[0m         \u001b[0;32mreturn\u001b[0m \u001b[0;34m[\u001b[0m\u001b[0mself\u001b[0m\u001b[0;34m.\u001b[0m\u001b[0mmake_block\u001b[0m\u001b[0;34m(\u001b[0m\u001b[0mvalues\u001b[0m\u001b[0;34m=\u001b[0m\u001b[0mnew_values\u001b[0m\u001b[0;34m)\u001b[0m\u001b[0;34m]\u001b[0m\u001b[0;34m\u001b[0m\u001b[0;34m\u001b[0m\u001b[0m\n\u001b[1;32m   1331\u001b[0m \u001b[0;34m\u001b[0m\u001b[0m\n",
      "\u001b[0;32m~/mambaforge/envs/nilm_0.4.3/lib/python3.7/site-packages/pandas/core/algorithms.py\u001b[0m in \u001b[0;36mdiff\u001b[0;34m(arr, n, axis)\u001b[0m\n\u001b[1;32m   1948\u001b[0m     \u001b[0;32mif\u001b[0m \u001b[0marr\u001b[0m\u001b[0;34m.\u001b[0m\u001b[0mndim\u001b[0m \u001b[0;34m==\u001b[0m \u001b[0;36m2\u001b[0m \u001b[0;32mand\u001b[0m \u001b[0marr\u001b[0m\u001b[0;34m.\u001b[0m\u001b[0mdtype\u001b[0m\u001b[0;34m.\u001b[0m\u001b[0mname\u001b[0m \u001b[0;32min\u001b[0m \u001b[0m_diff_special\u001b[0m\u001b[0;34m:\u001b[0m\u001b[0;34m\u001b[0m\u001b[0;34m\u001b[0m\u001b[0m\n\u001b[1;32m   1949\u001b[0m         \u001b[0mf\u001b[0m \u001b[0;34m=\u001b[0m \u001b[0m_diff_special\u001b[0m\u001b[0;34m[\u001b[0m\u001b[0marr\u001b[0m\u001b[0;34m.\u001b[0m\u001b[0mdtype\u001b[0m\u001b[0;34m.\u001b[0m\u001b[0mname\u001b[0m\u001b[0;34m]\u001b[0m\u001b[0;34m\u001b[0m\u001b[0;34m\u001b[0m\u001b[0m\n\u001b[0;32m-> 1950\u001b[0;31m         \u001b[0mf\u001b[0m\u001b[0;34m(\u001b[0m\u001b[0marr\u001b[0m\u001b[0;34m,\u001b[0m \u001b[0mout_arr\u001b[0m\u001b[0;34m,\u001b[0m \u001b[0mn\u001b[0m\u001b[0;34m,\u001b[0m \u001b[0maxis\u001b[0m\u001b[0;34m)\u001b[0m\u001b[0;34m\u001b[0m\u001b[0;34m\u001b[0m\u001b[0m\n\u001b[0m\u001b[1;32m   1951\u001b[0m     \u001b[0;32melse\u001b[0m\u001b[0;34m:\u001b[0m\u001b[0;34m\u001b[0m\u001b[0;34m\u001b[0m\u001b[0m\n\u001b[1;32m   1952\u001b[0m         \u001b[0mres_indexer\u001b[0m \u001b[0;34m=\u001b[0m \u001b[0;34m[\u001b[0m\u001b[0mslice\u001b[0m\u001b[0;34m(\u001b[0m\u001b[0;32mNone\u001b[0m\u001b[0;34m)\u001b[0m\u001b[0;34m]\u001b[0m \u001b[0;34m*\u001b[0m \u001b[0marr\u001b[0m\u001b[0;34m.\u001b[0m\u001b[0mndim\u001b[0m\u001b[0;34m\u001b[0m\u001b[0;34m\u001b[0m\u001b[0m\n",
      "\u001b[0;32mpandas/_libs/algos_common_helper.pxi\u001b[0m in \u001b[0;36mpandas._libs.algos.diff_2d_int8\u001b[0;34m()\u001b[0m\n",
      "\u001b[0;31mValueError\u001b[0m: Buffer dtype mismatch, expected 'float32_t' but got 'double'"
     ]
    }
   ],
   "source": [
    "import numpy as np\n",
    "# Ar: 15, 15, 10\n",
    "# Lav: 15, 15, 5\n",
    "elec=elecs['washer dryer'] #'washer dryer'\n",
    "df2=next(elec.load())\n",
    "\n",
    "activ = get_activations(df2, 15, 15, 1, 10)\n",
    "activ"
   ]
  },
  {
   "cell_type": "code",
   "execution_count": 19,
   "id": "90a95d42",
   "metadata": {},
   "outputs": [],
   "source": [
    "def get_activations(chunk, min_off_duration=0, min_on_duration=0, border=1, on_power_threshold=5):\n",
    "    \"\"\"Returns runs of an appliance.\n",
    "    Most appliances spend a lot of their time off.  This function finds\n",
    "    periods when the appliance is on.\n",
    "    Parameters\n",
    "    ----------\n",
    "    chunk : pd.Series\n",
    "    min_off_duration : int\n",
    "        If min_off_duration > 0 then ignore 'off' periods less than\n",
    "        min_off_duration seconds of sub-threshold power consumption\n",
    "        (e.g. a washing machine might draw no power for a short\n",
    "        period while the clothes soak.)  Defaults to 0.\n",
    "    min_on_duration : int\n",
    "        Any activation lasting less seconds than min_on_duration will be\n",
    "        ignored.  Defaults to 0.\n",
    "    border : int\n",
    "        Number of rows to include before and after the detected activation\n",
    "    on_power_threshold : int or float\n",
    "        Watts\n",
    "    Returns\n",
    "    -------\n",
    "    list of pd.Series.  Each series contains one activation.\n",
    "    \"\"\"\n",
    "    when_on = chunk >= on_power_threshold\n",
    "\n",
    "    # Find state changes\n",
    "    state_changes = when_on.astype(np.int8).diff()\n",
    "    del when_on\n",
    "    switch_on_events = np.where(state_changes == 1)[0]\n",
    "    switch_off_events = np.where(state_changes == -1)[0]\n",
    "    del state_changes\n",
    "\n",
    "    if len(switch_on_events) == 0 or len(switch_off_events) == 0:\n",
    "        return []\n",
    "\n",
    "    # Certifique-se de que os eventos estejam alinhados\n",
    "    if switch_off_events[0] < switch_on_events[0]:\n",
    "        switch_off_events = switch_off_events[1:]\n",
    "        if len(switch_off_events) == 0:\n",
    "            return []\n",
    "    if switch_on_events[-1] > switch_off_events[-1]:\n",
    "        switch_on_events = switch_on_events[:-1]\n",
    "        if len(switch_on_events) == 0:\n",
    "            return []\n",
    "    assert len(switch_on_events) == len(switch_off_events)\n",
    "\n",
    "    # Smooth over off-durations less than min_off_duration\n",
    "    if min_off_duration > 0:\n",
    "        off_durations = (chunk.index[switch_on_events[1:]].values -\n",
    "                         chunk.index[switch_off_events[:-1]].values)\n",
    "\n",
    "        off_durations = timedelta64_to_secs(off_durations)\n",
    "\n",
    "        above_threshold_off_durations = np.where(\n",
    "            off_durations >= min_off_duration)[0]\n",
    "\n",
    "        # Now remove off_events and on_events\n",
    "        switch_off_events = switch_off_events[\n",
    "            np.concatenate([above_threshold_off_durations,\n",
    "                            [len(switch_off_events)-1]])]\n",
    "        switch_on_events = switch_on_events[\n",
    "            np.concatenate([[0], above_threshold_off_durations+1])]\n",
    "    assert len(switch_on_events) == len(switch_off_events)\n",
    "\n",
    "    activations = []\n",
    "    for on, off in zip(switch_on_events, switch_off_events):\n",
    "        duration = (chunk.index[off] - chunk.index[on]).total_seconds()\n",
    "        if duration < min_on_duration:\n",
    "            continue\n",
    "        on -= 1 + border\n",
    "        if on < 0:\n",
    "            on = 0\n",
    "        off += border\n",
    "        activation = chunk.iloc[on:off]\n",
    "        # throw away any activation with any NaN values\n",
    "        if not activation.isnull().values.any():\n",
    "            activations.append(activation)\n",
    "\n",
    "    return activations"
   ]
  },
  {
   "cell_type": "markdown",
   "id": "6086b192",
   "metadata": {},
   "source": [
    "## Gráfico Geral"
   ]
  },
  {
   "cell_type": "code",
   "execution_count": 4,
   "id": "644efc84",
   "metadata": {},
   "outputs": [
    {
     "data": {
      "text/plain": [
       "2021-12-07 19:40:13-03:00    914.400024\n",
       "2021-12-07 19:40:14-03:00    914.400024\n",
       "2021-12-07 19:40:15-03:00    913.299988\n",
       "2021-12-07 19:40:16-03:00    916.700012\n",
       "2021-12-07 19:40:17-03:00    910.500000\n",
       "Name: (power, active), dtype: float32"
      ]
     },
     "execution_count": 4,
     "metadata": {},
     "output_type": "execute_result"
    }
   ],
   "source": [
    "build = 1\n",
    "elec = hb.buildings[build].elec\n",
    "elec.mains().power_series_all_data().head()"
   ]
  },
  {
   "cell_type": "code",
   "execution_count": 14,
   "id": "35255436",
   "metadata": {},
   "outputs": [
    {
     "ename": "TypeError",
     "evalue": "'ElecMeter' object is not subscriptable",
     "output_type": "error",
     "traceback": [
      "\u001b[0;31m---------------------------------------------------------------------------\u001b[0m",
      "\u001b[0;31mTypeError\u001b[0m                                 Traceback (most recent call last)",
      "\u001b[0;32m/tmp/ipykernel_41285/44111492.py\u001b[0m in \u001b[0;36m<module>\u001b[0;34m\u001b[0m\n\u001b[0;32m----> 1\u001b[0;31m \u001b[0melec\u001b[0m\u001b[0;34m[\u001b[0m\u001b[0;34m'washer dryer'\u001b[0m\u001b[0;34m]\u001b[0m\u001b[0;34m.\u001b[0m\u001b[0mdominant_appliance\u001b[0m\u001b[0;34m(\u001b[0m\u001b[0;34m)\u001b[0m\u001b[0;34m.\u001b[0m\u001b[0mmetadata\u001b[0m\u001b[0;34m\u001b[0m\u001b[0;34m\u001b[0m\u001b[0m\n\u001b[0m",
      "\u001b[0;31mTypeError\u001b[0m: 'ElecMeter' object is not subscriptable"
     ]
    }
   ],
   "source": [
    "elec['washer dryer'].dominant_appliance().metadata\n"
   ]
  },
  {
   "cell_type": "code",
   "execution_count": 6,
   "id": "2c4af45c",
   "metadata": {},
   "outputs": [
    {
     "data": {
      "text/plain": [
       "<matplotlib.axes._subplots.AxesSubplot at 0x7f9c1fbc4d50>"
      ]
     },
     "execution_count": 6,
     "metadata": {},
     "output_type": "execute_result"
    },
    {
     "data": {
      "image/png": "[encoded data removed]",
      "text/plain": [
       "<Figure size 936x720 with 1 Axes>"
      ]
     },
     "metadata": {},
     "output_type": "display_data"
    }
   ],
   "source": [
    "sns.set_palette(\"Set2\", n_colors=5)\n",
    "# elec.mains().plot()\n",
    "# elec['washer dryer'].plot()\n",
    "elec['air conditioner'].plot()\n",
    "\n",
    "# Set a threshold to remove residual power noise when devices are off\n",
    "# elec.plot_when_on(on_power_threshold = 40) # Plot appliances when they are in use¶\n",
    "\n",
    "# elec.draw_wiring_graph()"
   ]
  },
  {
   "cell_type": "markdown",
   "id": "11cde454",
   "metadata": {},
   "source": [
    "## Dados"
   ]
  },
  {
   "cell_type": "markdown",
   "id": "9d936a5c",
   "metadata": {},
   "source": [
    "##### Proporção de energia submedida"
   ]
  },
  {
   "cell_type": "code",
   "execution_count": null,
   "id": "089f18f3",
   "metadata": {},
   "outputs": [],
   "source": [
    "elec.proportion_of_energy_submetered()"
   ]
  },
  {
   "cell_type": "markdown",
   "id": "cd162b3a",
   "metadata": {},
   "source": [
    "##### Total Energy"
   ]
  },
  {
   "cell_type": "code",
   "execution_count": null,
   "id": "1abe6107",
   "metadata": {},
   "outputs": [],
   "source": [
    "elec.mains().total_energy()"
   ]
  },
  {
   "cell_type": "markdown",
   "id": "6d3502ae",
   "metadata": {},
   "source": [
    "##### Energy per submeter"
   ]
  },
  {
   "cell_type": "code",
   "execution_count": null,
   "id": "bfe0ed7d",
   "metadata": {},
   "outputs": [],
   "source": [
    "energy_per_meter = elec.submeters().energy_per_meter() # kWh, again\n",
    "energy_per_meter"
   ]
  },
  {
   "cell_type": "markdown",
   "id": "b8718487",
   "metadata": {},
   "source": [
    "#####  Plot fraction of energy consumption of each appliance"
   ]
  },
  {
   "cell_type": "code",
   "execution_count": null,
   "id": "92118ab9",
   "metadata": {},
   "outputs": [],
   "source": [
    "# fraction = elec.submeters().fraction_per_meter().dropna()\n",
    "fraction = elec.fraction_per_meter().dropna()\n",
    "# Create convenient labels\n",
    "labels = elec.get_labels(fraction.index)\n",
    "plt.figure(figsize=(10,30))\n",
    "fraction.plot(kind='pie', labels=labels);"
   ]
  },
  {
   "cell_type": "markdown",
   "id": "fd64b902",
   "metadata": {},
   "source": [
    "### Quadro Geral"
   ]
  },
  {
   "cell_type": "code",
   "execution_count": null,
   "id": "2ee9b2dc",
   "metadata": {},
   "outputs": [],
   "source": [
    "print(elec)\n",
    "elec.mains()"
   ]
  },
  {
   "cell_type": "code",
   "execution_count": null,
   "id": "2b8f19ec",
   "metadata": {
    "scrolled": true
   },
   "outputs": [],
   "source": [
    "from nilmtk.elecmeter import ElecMeterID##### Quadro Geral\n",
    "\n",
    "meter1 = elec[ElecMeterID(instance=1, building=build, dataset='HB')]\n",
    "\n",
    "next(meter1.load()).tail()"
   ]
  },
  {
   "cell_type": "code",
   "execution_count": null,
   "id": "f6eb4c9e",
   "metadata": {
    "scrolled": false
   },
   "outputs": [],
   "source": [
    "meter1.plot()"
   ]
  },
  {
   "cell_type": "markdown",
   "id": "cbb3a2ab",
   "metadata": {},
   "source": [
    "A taxa de abandono é um número entre 0 e 1 que especifica a proporção de amostras ausentes. Uma taxa de abandono de 0 significa que nenhuma amostra está faltando. Um valor de 1 significaria que todas as amostras estão faltando"
   ]
  },
  {
   "cell_type": "code",
   "execution_count": null,
   "id": "5a86c8d2",
   "metadata": {},
   "outputs": [],
   "source": [
    "meter1.dropout_rate()"
   ]
  },
  {
   "cell_type": "code",
   "execution_count": null,
   "id": "55f8c7e1",
   "metadata": {
    "scrolled": false
   },
   "outputs": [],
   "source": [
    "good_sections = meter1.good_sections(full_results=True)\n",
    "good_sections.plot()"
   ]
  },
  {
   "cell_type": "code",
   "execution_count": null,
   "id": "4f5eb679",
   "metadata": {
    "scrolled": true
   },
   "outputs": [],
   "source": [
    "good_sections.combined()"
   ]
  },
  {
   "cell_type": "markdown",
   "id": "0b957c94",
   "metadata": {},
   "source": [
    "##### Microondas"
   ]
  },
  {
   "cell_type": "code",
   "execution_count": null,
   "id": "1ce9f791",
   "metadata": {
    "scrolled": true
   },
   "outputs": [],
   "source": [
    "air_conditioner= elec['air conditioner']\n",
    "\n",
    "#microwave.available_columns()\n",
    "next(air_conditioner.load()).head()"
   ]
  },
  {
   "cell_type": "code",
   "execution_count": null,
   "id": "bbecbf6e",
   "metadata": {
    "scrolled": true
   },
   "outputs": [],
   "source": [
    "air_conditioner.plot()\n"
   ]
  },
  {
   "cell_type": "markdown",
   "id": "9814c3b4",
   "metadata": {},
   "source": [
    "A taxa de abandono é um número entre 0 e 1 que especifica a proporção de amostras ausentes. Uma taxa de abandono de 0 significa que nenhuma amostra está faltando. Um valor de 1 significaria que todas as amostras estão faltando"
   ]
  },
  {
   "cell_type": "code",
   "execution_count": null,
   "id": "ee271089",
   "metadata": {},
   "outputs": [],
   "source": [
    "air_conditioner.dropout_rate()"
   ]
  },
  {
   "cell_type": "code",
   "execution_count": null,
   "id": "7983f68d",
   "metadata": {},
   "outputs": [],
   "source": [
    "good_sections = air_conditioner.good_sections(full_results=True)\n",
    "good_sections.plot()"
   ]
  },
  {
   "cell_type": "code",
   "execution_count": null,
   "id": "c32901cc",
   "metadata": {},
   "outputs": [],
   "source": [
    "good_sections.combined()"
   ]
  },
  {
   "cell_type": "markdown",
   "id": "fce49191",
   "metadata": {},
   "source": [
    "##### Ventilador"
   ]
  },
  {
   "cell_type": "code",
   "execution_count": null,
   "id": "6d35d0d9",
   "metadata": {},
   "outputs": [],
   "source": [
    "washer_dryer= elec['washer dryer']\n",
    "#microwave.available_columns()\n",
    "next(washer_dryer.load()).head()"
   ]
  },
  {
   "cell_type": "code",
   "execution_count": null,
   "id": "e81d20a0",
   "metadata": {},
   "outputs": [],
   "source": [
    "washer_dryer.plot()"
   ]
  },
  {
   "cell_type": "code",
   "execution_count": null,
   "id": "38a9d4a3",
   "metadata": {},
   "outputs": [],
   "source": [
    "good_sections = washer_dryer.good_sections(full_results=True)\n",
    "good_sections.plot()"
   ]
  },
  {
   "cell_type": "markdown",
   "id": "16ce5745",
   "metadata": {},
   "source": [
    "A taxa de abandono é um número entre 0 e 1 que especifica a proporção de amostras ausentes. Uma taxa de abandono de 0 significa que nenhuma amostra está faltando. Um valor de 1 significaria que todas as amostras estão faltando"
   ]
  },
  {
   "cell_type": "code",
   "execution_count": null,
   "id": "e3aa90fe",
   "metadata": {},
   "outputs": [],
   "source": [
    "washer_dryer.dropout_rate()"
   ]
  },
  {
   "cell_type": "code",
   "execution_count": null,
   "id": "af1efd89",
   "metadata": {},
   "outputs": [],
   "source": [
    "good_sections.combined()"
   ]
  },
  {
   "cell_type": "markdown",
   "id": "122ef887",
   "metadata": {},
   "source": [
    "###  Autocorrelation Plot"
   ]
  },
  {
   "cell_type": "code",
   "execution_count": null,
   "id": "540f0c3c",
   "metadata": {},
   "outputs": [],
   "source": [
    "# from pandas.plotting import autocorrelation_plot\n",
    "# elec.mains().plot_autocorrelation();"
   ]
  },
  {
   "cell_type": "markdown",
   "id": "9055e3ee",
   "metadata": {},
   "source": [
    "### Dataframe de correlação dos aparelhos"
   ]
  },
  {
   "cell_type": "code",
   "execution_count": null,
   "id": "6383d8bb",
   "metadata": {},
   "outputs": [],
   "source": [
    "# correlation_df = elec.pairwise_correlation()\n",
    "# correlation_df"
   ]
  },
  {
   "cell_type": "markdown",
   "id": "4b9f41c2",
   "metadata": {},
   "source": [
    "### Traçar dados submedidos em um 1 dia"
   ]
  },
  {
   "cell_type": "code",
   "execution_count": null,
   "id": "563fe850",
   "metadata": {},
   "outputs": [],
   "source": [
    "# [TimeFrame(start='2021-12-07 19:40:13-03:00', end='2021-12-08 18:26:48-03:00', empty=False),\n",
    "#  TimeFrame(start='2021-12-08 18:27:31-03:00', end='2021-12-10 13:44:05-03:00', empty=False),\n",
    "#  TimeFrame(start='2021-12-10 13:44:40-03:00', end='2021-12-12 04:49:10-03:00', empty=False),\n",
    "#  TimeFrame(start='2021-12-12 04:50:07-03:00', end='2021-12-21 22:54:22-03:00', empty=False)]\n",
    "\n",
    "hb.set_window(start='2021-12-08 18:19:00', end='2021-12-08 18:28:00')\n",
    "\n",
    "elec.plot();\n",
    "plt.xlabel(\"Time\");"
   ]
  },
  {
   "cell_type": "code",
   "execution_count": null,
   "id": "c252ef2b",
   "metadata": {},
   "outputs": [],
   "source": [
    "# hb.set_window(start='2021-09-05 00:00:00', end='2021-09-06 23:59:59')\n",
    "hb.set_window(start='2021-09-05', end='2021-09-07')\n",
    "\n",
    "# elec['microwave'].plot()\n",
    "elec['fan'].plot()\n",
    "plt.xlabel(\"Time\");"
   ]
  },
  {
   "cell_type": "markdown",
   "id": "a3eba875",
   "metadata": {},
   "source": [
    "Importamos os algoritmos que desejamos executar os experimentos:\n",
    "\n",
    "Mean: Mean Algorithm\n",
    "\n",
    "Hart's Algorithm\n",
    "\n",
    "CO: Combinatorial Optimization\n",
    "\n",
    "Discriminative Sparse Coding\n",
    "\n",
    "Additive Factorial Hidden Markov Model\n",
    "\n",
    "Additive Factorial Hidden Markov Model with Signal Aggregate Constraints\n",
    "\n",
    "DSC: Discriminative Sparse Coding\n",
    "\n",
    "RNN: Long short-term memory - LSTM\n",
    "\n",
    "DAE: Denoising Auto Encoder\n",
    "\n",
    "Seq2Point*\n",
    "\n",
    "Seq2Seq\n",
    "\n",
    "WindowGRU/Online GRU: Similar a LSTM, mas usa Gated Recurrent Unit (GRU)\n",
    "\n",
    "ELM"
   ]
  },
  {
   "cell_type": "code",
   "execution_count": 3,
   "id": "ba5d2147",
   "metadata": {},
   "outputs": [
    {
     "name": "stderr",
     "output_type": "stream",
     "text": [
      "Using TensorFlow backend.\n"
     ]
    }
   ],
   "source": [
    "from nilmtk.disaggregate import Mean,CO,Hart85\n",
    "# from nilmtk_contrib.disaggregate import AFHMM,AFHMM_SAC,DSC,RNN,Seq2Point,Seq2Seq,DAE,WindowGRU\n",
    "from nilmtk_contrib.disaggregate import RNN,Seq2Point,Seq2Seq,WindowGRU"
   ]
  },
  {
   "cell_type": "markdown",
   "id": "3c9def47",
   "metadata": {},
   "source": [
    "Em seguida, inserimos os valores para os diferentes parâmetros no dicionário. Como precisamos de vários aparelhos, inserimos os nomes de todos os aparelhos necessários no parâmetro 'appliances'.\n",
    "\n",
    "Métricas: https://github.com/nilmtk/nilmtk/blob/master/nilmtk/losses.py\n",
    "\n",
    "Error: https://github.com/nilmtk/nilmtk-contrib/issues/56"
   ]
  },
  {
   "cell_type": "code",
   "execution_count": 8,
   "id": "8e54ee07",
   "metadata": {},
   "outputs": [],
   "source": [
    "d = {\n",
    "  'power': {\n",
    "    'mains': ['active',],\n",
    "    'appliance': ['active']  \n",
    "#     'mains': ['active', 'frequency', 'power factor', 'current', 'voltage'],\n",
    "#     'appliance': ['active', 'apparent', 'reactive', 'power factor', 'current', 'voltage']\n",
    "  },\n",
    "  'artificial_aggregate': False,\n",
    "  'sample_rate': 5,\n",
    "  'display_predictions': True,\n",
    "  'appliances': ['washer dryer', 'air conditioner'],\n",
    "  'methods': {\n",
    "      'Mean':Mean({}),\n",
    "      #'CO':CO({}),\n",
    "      'Hart85':Hart85({}),\n",
    "      'RNN':RNN({'n_epochs':50,'batch_size':1024}),\n",
    "      'Seq2Point':Seq2Point({'n_epochs':50,'batch_size':1024}),\n",
    "      #'Seq2Seq':Seq2Seq({'n_epochs':50,'batch_size':1024}),\n",
    "      #'WindowGRU':WindowGRU({'n_epochs':2,'batch_size':1024})\n",
    "  },\n",
    " 'train': {\n",
    "    'datasets': {\n",
    "      'hb': {\n",
    "        'path': 'convert_ar_lav_utc5.h5',\n",
    "        'buildings': {\n",
    "              1: {\n",
    "                'start_time': '2021-12-07',\n",
    "                'end_time': '2021-12-17'\n",
    "              },\n",
    "#               2: {\n",
    "#                 'start_time': '2011-04-18',\n",
    "#                 'end_time': '2011-05-02'\n",
    "#               },\n",
    "#               3: {\n",
    "#                 'start_time': '2011-04-16',\n",
    "#                 'end_time': '2011-05-30'\n",
    "#               },          \n",
    "        }\n",
    "      },\n",
    "        \n",
    "    }\n",
    "  },\n",
    "    \n",
    "  'test': {\n",
    "    'datasets': {\n",
    "      'hb': {\n",
    "        'path': 'convert_ar_lav_utc5.h5',\n",
    "        'buildings': {\n",
    "              1: {\n",
    "                    'start_time': '2021-12-18',\n",
    "                    'end_time': '2021-12-22'\n",
    "          }\n",
    "        }\n",
    "      }\n",
    "    },\n",
    "    'metrics':['rmse', 'mae', 'relative_error', 'r2score', 'nde', 'nep', 'f1score']\n",
    "  }\n",
    "}"
   ]
  },
  {
   "cell_type": "markdown",
   "id": "9c7f6c14",
   "metadata": {},
   "source": [
    "raiz do erro quadrático médio (RMSE) e o erro médio absoluto (MAE)\n",
    "\n",
    "Quanto menor o seu valor, melhor é o modelo, já que a previsão se mostra mais próxima ao valor real. Comparando as duas métricas têm se que o RMSE penaliza desvios grandes, enquanto o MAE tem pesos iguais para todos os desvios.\n",
    "\n",
    "We can observe the prediction vs. truth graphs in the above cell. The accuracy metrics can be accessed using the following commands:"
   ]
  },
  {
   "cell_type": "code",
   "execution_count": null,
   "id": "69350864",
   "metadata": {
    "scrolled": true
   },
   "outputs": [
    {
     "name": "stdout",
     "output_type": "stream",
     "text": [
      "Started training for  RNN\n",
      "Joint training for  RNN\n",
      "............... Loading Data for training ...................\n",
      "Loading data for  hb  dataset\n",
      "Loading building ...  1\n",
      "Dropping missing values\n",
      "{'washer dryer': {'mean': 57.52668, 'std': 280.61826}, 'air conditioner': {'mean': 211.45456, 'std': 208.35582}}\n",
      "...............RNN partial_fit running...............\n",
      "First model training for  washer dryer\n"
     ]
    },
    {
     "name": "stderr",
     "output_type": "stream",
     "text": [
      "2022-03-10 12:41:49.600939: I tensorflow/core/platform/cpu_feature_guard.cc:143] Your CPU supports instructions that this TensorFlow binary was not compiled to use: SSE4.1 SSE4.2 AVX\n",
      "2022-03-10 12:41:50.251017: I tensorflow/core/platform/profile_utils/cpu_utils.cc:102] CPU Frequency: 2394070000 Hz\n",
      "2022-03-10 12:41:50.252565: I tensorflow/compiler/xla/service/service.cc:168] XLA service 0x557aff8008e0 initialized for platform Host (this does not guarantee that XLA will be used). Devices:\n",
      "2022-03-10 12:41:50.252626: I tensorflow/compiler/xla/service/service.cc:176]   StreamExecutor device (0): Host, Default Version\n",
      "2022-03-10 12:41:50.283309: I tensorflow/core/common_runtime/process_util.cc:147] Creating new thread pool with default inter op setting: 2. Tune using inter_op_parallelism_threads for best performance.\n"
     ]
    },
    {
     "name": "stdout",
     "output_type": "stream",
     "text": [
      "Train on 134841 samples, validate on 23796 samples\n",
      "Epoch 1/50\n",
      "134841/134841 [==============================] - 308s 2ms/step - loss: 0.6186 - mse: 0.6186 - val_loss: 0.2974 - val_mse: 0.2974\n",
      "\n",
      "Epoch 00001: val_loss improved from inf to 0.29742, saving model to RNN-temp-weights-74894.h5\n",
      "Epoch 2/50\n",
      "134841/134841 [==============================] - 286s 2ms/step - loss: 0.2587 - mse: 0.2587 - val_loss: 0.2581 - val_mse: 0.2581\n",
      "\n",
      "Epoch 00002: val_loss improved from 0.29742 to 0.25815, saving model to RNN-temp-weights-74894.h5\n",
      "Epoch 3/50\n",
      "134841/134841 [==============================] - 290s 2ms/step - loss: 0.2407 - mse: 0.2407 - val_loss: 0.2662 - val_mse: 0.2662\n",
      "\n",
      "Epoch 00003: val_loss did not improve from 0.25815\n",
      "Epoch 4/50\n",
      "134841/134841 [==============================] - 292s 2ms/step - loss: 0.2224 - mse: 0.2224 - val_loss: 0.2187 - val_mse: 0.2187\n",
      "\n",
      "Epoch 00004: val_loss improved from 0.25815 to 0.21866, saving model to RNN-temp-weights-74894.h5\n",
      "Epoch 5/50\n",
      "134841/134841 [==============================] - 290s 2ms/step - loss: 0.2133 - mse: 0.2133 - val_loss: 0.2366 - val_mse: 0.2366\n",
      "\n",
      "Epoch 00005: val_loss did not improve from 0.21866\n",
      "Epoch 6/50\n",
      "134841/134841 [==============================] - 291s 2ms/step - loss: 0.2125 - mse: 0.2125 - val_loss: 0.2128 - val_mse: 0.2128\n",
      "\n",
      "Epoch 00006: val_loss improved from 0.21866 to 0.21279, saving model to RNN-temp-weights-74894.h5\n",
      "Epoch 7/50\n",
      "134841/134841 [==============================] - 289s 2ms/step - loss: 0.2013 - mse: 0.2013 - val_loss: 0.1928 - val_mse: 0.1928\n",
      "\n",
      "Epoch 00007: val_loss improved from 0.21279 to 0.19282, saving model to RNN-temp-weights-74894.h5\n",
      "Epoch 8/50\n",
      "134841/134841 [==============================] - 294s 2ms/step - loss: 0.1910 - mse: 0.1910 - val_loss: 0.2010 - val_mse: 0.2010\n",
      "\n",
      "Epoch 00008: val_loss did not improve from 0.19282\n",
      "Epoch 9/50\n",
      "134841/134841 [==============================] - 288s 2ms/step - loss: 0.1828 - mse: 0.1828 - val_loss: 0.2082 - val_mse: 0.2082\n",
      "\n",
      "Epoch 00009: val_loss did not improve from 0.19282\n",
      "Epoch 10/50\n",
      "134841/134841 [==============================] - 292s 2ms/step - loss: 0.1789 - mse: 0.1789 - val_loss: 0.1919 - val_mse: 0.1919\n",
      "\n",
      "Epoch 00010: val_loss improved from 0.19282 to 0.19190, saving model to RNN-temp-weights-74894.h5\n",
      "Epoch 11/50\n",
      "134841/134841 [==============================] - 293s 2ms/step - loss: 0.1749 - mse: 0.1749 - val_loss: 0.1770 - val_mse: 0.1770\n",
      "\n",
      "Epoch 00011: val_loss improved from 0.19190 to 0.17700, saving model to RNN-temp-weights-74894.h5\n",
      "Epoch 12/50\n",
      "134841/134841 [==============================] - 296s 2ms/step - loss: 0.1703 - mse: 0.1703 - val_loss: 0.1724 - val_mse: 0.1724\n",
      "\n",
      "Epoch 00012: val_loss improved from 0.17700 to 0.17245, saving model to RNN-temp-weights-74894.h5\n",
      "Epoch 13/50\n",
      "134841/134841 [==============================] - 289s 2ms/step - loss: 0.1699 - mse: 0.1699 - val_loss: 0.1629 - val_mse: 0.1629\n",
      "\n",
      "Epoch 00013: val_loss improved from 0.17245 to 0.16290, saving model to RNN-temp-weights-74894.h5\n",
      "Epoch 14/50\n",
      "134841/134841 [==============================] - 288s 2ms/step - loss: 0.1623 - mse: 0.1623 - val_loss: 0.1630 - val_mse: 0.1630\n",
      "\n",
      "Epoch 00014: val_loss did not improve from 0.16290\n",
      "Epoch 15/50\n",
      "134841/134841 [==============================] - 293s 2ms/step - loss: 0.1582 - mse: 0.1582 - val_loss: 0.1569 - val_mse: 0.1569\n",
      "\n",
      "Epoch 00015: val_loss improved from 0.16290 to 0.15693, saving model to RNN-temp-weights-74894.h5\n",
      "Epoch 16/50\n",
      "134841/134841 [==============================] - 288s 2ms/step - loss: 0.1595 - mse: 0.1595 - val_loss: 0.1673 - val_mse: 0.1673\n",
      "\n",
      "Epoch 00016: val_loss did not improve from 0.15693\n",
      "Epoch 17/50\n",
      "134841/134841 [==============================] - 296s 2ms/step - loss: 0.1610 - mse: 0.1610 - val_loss: 0.1834 - val_mse: 0.1834\n",
      "\n",
      "Epoch 00017: val_loss did not improve from 0.15693\n",
      "Epoch 18/50\n",
      "134841/134841 [==============================] - 303s 2ms/step - loss: 0.1589 - mse: 0.1589 - val_loss: 0.1531 - val_mse: 0.1531\n",
      "\n",
      "Epoch 00018: val_loss improved from 0.15693 to 0.15307, saving model to RNN-temp-weights-74894.h5\n",
      "Epoch 19/50\n",
      "134841/134841 [==============================] - 292s 2ms/step - loss: 0.1533 - mse: 0.1533 - val_loss: 0.1588 - val_mse: 0.1588\n",
      "\n",
      "Epoch 00019: val_loss did not improve from 0.15307\n",
      "Epoch 20/50\n",
      "134841/134841 [==============================] - 296s 2ms/step - loss: 0.1514 - mse: 0.1514 - val_loss: 0.1514 - val_mse: 0.1514\n",
      "\n",
      "Epoch 00020: val_loss improved from 0.15307 to 0.15142, saving model to RNN-temp-weights-74894.h5\n",
      "Epoch 21/50\n",
      "134841/134841 [==============================] - 288s 2ms/step - loss: 0.1573 - mse: 0.1573 - val_loss: 0.1648 - val_mse: 0.1648\n",
      "\n",
      "Epoch 00021: val_loss did not improve from 0.15142\n",
      "Epoch 22/50\n",
      "134841/134841 [==============================] - 297s 2ms/step - loss: 0.1507 - mse: 0.1507 - val_loss: 0.1514 - val_mse: 0.1514\n",
      "\n",
      "Epoch 00022: val_loss did not improve from 0.15142\n",
      "Epoch 23/50\n",
      "134841/134841 [==============================] - 297s 2ms/step - loss: 0.1447 - mse: 0.1447 - val_loss: 0.1467 - val_mse: 0.1467\n",
      "\n",
      "Epoch 00023: val_loss improved from 0.15142 to 0.14674, saving model to RNN-temp-weights-74894.h5\n",
      "Epoch 24/50\n",
      "134841/134841 [==============================] - 295s 2ms/step - loss: 0.1465 - mse: 0.1465 - val_loss: 0.1531 - val_mse: 0.1531\n",
      "\n",
      "Epoch 00024: val_loss did not improve from 0.14674\n",
      "Epoch 25/50\n",
      "134841/134841 [==============================] - 290s 2ms/step - loss: 0.1478 - mse: 0.1478 - val_loss: 0.1522 - val_mse: 0.1522\n",
      "\n",
      "Epoch 00025: val_loss did not improve from 0.14674\n",
      "Epoch 26/50\n",
      "134841/134841 [==============================] - 294s 2ms/step - loss: 0.1468 - mse: 0.1468 - val_loss: 0.1570 - val_mse: 0.1570\n",
      "\n",
      "Epoch 00026: val_loss did not improve from 0.14674\n",
      "Epoch 27/50\n",
      "134841/134841 [==============================] - 298s 2ms/step - loss: 0.1435 - mse: 0.1435 - val_loss: 0.1513 - val_mse: 0.1513\n",
      "\n",
      "Epoch 00027: val_loss did not improve from 0.14674\n",
      "Epoch 28/50\n",
      "134841/134841 [==============================] - 291s 2ms/step - loss: 0.1414 - mse: 0.1414 - val_loss: 0.1578 - val_mse: 0.1578\n",
      "\n",
      "Epoch 00028: val_loss did not improve from 0.14674\n",
      "Epoch 29/50\n",
      " 37888/134841 [=======>......................] - ETA: 3:20 - loss: 0.1470 - mse: 0.1470"
     ]
    }
   ],
   "source": [
    "api_res = API(d)"
   ]
  },
  {
   "cell_type": "code",
   "execution_count": null,
   "id": "e623e176",
   "metadata": {},
   "outputs": [],
   "source": [
    "!pip3 install pushbullet.py\n",
    "# https://github.com/rbrcsk/pushbullet.py\n",
    "\n",
    "from pushbullet import Pushbullet\n",
    "\n",
    "api_key = 'o.Xxfj5rdbzieCGqhKMix402D38RRrislN'\n",
    "\n",
    "def send_push():  \n",
    "    pb = Pushbullet(api_key)\n",
    "    # print(pb.devices)\n",
    "    lg = pb.get_device('LGE LG-H870I')\n",
    "    push = lg.push_note(\"Acabouuuuuuu!\", \":)\")\n",
    "#   with open(\"my_cool_picture.jpg\", \"rb\") as pic:\n",
    "#   file_data = pb.upload_file(pic, \"picture.jpg\")\n",
    "#   push = pb.push_file(**file_data)\n",
    "\n",
    "send_push()"
   ]
  },
  {
   "cell_type": "code",
   "execution_count": null,
   "id": "cd4dd311",
   "metadata": {},
   "outputs": [],
   "source": [
    "import numpy as np\n",
    "import pandas as pd\n",
    "1 048 576\n",
    "\n",
    "vals = np.concatenate([np.expand_dims(df.values,axis=2) for df in api_res.errors],axis=2)\n",
    "\n",
    "\n",
    "cols = api_res.errors[0].columns\n",
    "indexes = api_res.errors[0].index\n",
    "\n",
    "\n",
    "mean = np.mean(vals,axis=2)\n",
    "std = np.std(vals,axis=2)\n",
    "print ('\\n\\n')\n",
    "print (\"Mean\")\n",
    "print (pd.DataFrame(mean,index=indexes,columns=cols))\n",
    "print ('\\n\\n')\n",
    "print (\"Standard Deviation\")\n",
    "print (pd.DataFrame(std,index=indexes,columns=cols))"
   ]
  },
  {
   "cell_type": "code",
   "execution_count": null,
   "id": "d0fe05b6",
   "metadata": {},
   "outputs": [],
   "source": []
  }
 ],
 "metadata": {
  "kernelspec": {
   "display_name": "Python 3 (ipykernel)",
   "language": "python",
   "name": "python3"
  },
  "language_info": {
   "codemirror_mode": {
    "name": "ipython",
    "version": 3
   },
   "file_extension": ".py",
   "mimetype": "text/x-python",
   "name": "python",
   "nbconvert_exporter": "python",
   "pygments_lexer": "ipython3",
   "version": "3.7.12"
  }
 },
 "nbformat": 4,
 "nbformat_minor": 5
}
